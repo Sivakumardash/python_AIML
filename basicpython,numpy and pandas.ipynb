{
 "cells": [
  {
   "cell_type": "markdown",
   "id": "5cbe902e-4508-46d6-b474-fdf4fec59afc",
   "metadata": {},
   "source": [
    "print(\"hello world\")"
   ]
  },
  {
   "cell_type": "code",
   "execution_count": 1,
   "id": "705fbc48-02a8-419f-94ff-ea9e24058e8f",
   "metadata": {},
   "outputs": [
    {
     "name": "stdout",
     "output_type": "stream",
     "text": [
      "\n",
      "Here is a list of the Python keywords.  Enter any keyword to get more help.\n",
      "\n",
      "False               class               from                or\n",
      "None                continue            global              pass\n",
      "True                def                 if                  raise\n",
      "and                 del                 import              return\n",
      "as                  elif                in                  try\n",
      "assert              else                is                  while\n",
      "async               except              lambda              with\n",
      "await               finally             nonlocal            yield\n",
      "break               for                 not                 \n",
      "\n"
     ]
    }
   ],
   "source": [
    "help('keywords')"
   ]
  },
  {
   "cell_type": "code",
   "execution_count": 44,
   "id": "5b513f41-e55b-4fb3-94e3-7b5c78c3610e",
   "metadata": {},
   "outputs": [
    {
     "data": {
      "text/plain": [
       "complex"
      ]
     },
     "execution_count": 44,
     "metadata": {},
     "output_type": "execute_result"
    }
   ],
   "source": [
    "a=23+ 6j\n",
    "type(a)"
   ]
  },
  {
   "cell_type": "code",
   "execution_count": 50,
   "id": "9b1cd0ca-c748-4ac7-9705-d6d1ca290da2",
   "metadata": {},
   "outputs": [
    {
     "data": {
      "text/plain": [
       "bool"
      ]
     },
     "execution_count": 50,
     "metadata": {},
     "output_type": "execute_result"
    }
   ],
   "source": [
    "b=True\n",
    "type(b)"
   ]
  },
  {
   "cell_type": "code",
   "execution_count": 17,
   "id": "5b1c4ed9-e3f5-49ab-80db-f53299d69d6b",
   "metadata": {},
   "outputs": [
    {
     "ename": "AttributeError",
     "evalue": "'tuple' object has no attribute 'append'",
     "output_type": "error",
     "traceback": [
      "\u001b[1;31m-------------------------------------------\u001b[0m",
      "\u001b[1;31mAttributeError\u001b[0mTraceback (most recent call last)",
      "Cell \u001b[1;32mIn[17], line 3\u001b[0m\n\u001b[0;32m      1\u001b[0m \u001b[38;5;66;03m#tuple\u001b[39;00m\n\u001b[0;32m      2\u001b[0m t\u001b[38;5;241m=\u001b[39m(\u001b[38;5;241m5\u001b[39m,\u001b[38;5;241m7.9\u001b[39m,\u001b[38;5;28;01mTrue\u001b[39;00m,\u001b[38;5;241m7\u001b[39m\u001b[38;5;241m+\u001b[39m\u001b[38;5;241m4\u001b[39mj)\n\u001b[1;32m----> 3\u001b[0m t\u001b[38;5;241m.\u001b[39mappend(\u001b[38;5;241m67\u001b[39m)\n\u001b[0;32m      4\u001b[0m \u001b[38;5;28mtype\u001b[39m(t)\n",
      "\u001b[1;31mAttributeError\u001b[0m: 'tuple' object has no attribute 'append'"
     ]
    }
   ],
   "source": [
    "#tuple\n",
    "t=(5,7.9,True,7+4j)\n",
    "type(t)"
   ]
  },
  {
   "cell_type": "code",
   "execution_count": 11,
   "id": "b2ade8ae-b868-4dfc-8114-dff1be9f6056",
   "metadata": {},
   "outputs": [
    {
     "name": "stdout",
     "output_type": "stream",
     "text": [
      "[34, 78, 45, 566]\n"
     ]
    }
   ],
   "source": [
    "#list\n",
    "a=[34,78,89]\n",
    "a[2]=45\n",
    "a.append(566)\n",
    "print(a)\n"
   ]
  },
  {
   "cell_type": "code",
   "execution_count": 65,
   "id": "badab89b-26fd-4239-89b4-6016e8e6153f",
   "metadata": {},
   "outputs": [
    {
     "data": {
      "text/plain": [
       "dict"
      ]
     },
     "execution_count": 65,
     "metadata": {},
     "output_type": "execute_result"
    }
   ],
   "source": [
    "#dictionary\n",
    "a={'a':56,'b':67}\n",
    "type(a)"
   ]
  },
  {
   "cell_type": "code",
   "execution_count": 23,
   "id": "31f31209-f1c1-42c3-ad11-847a2cdadda4",
   "metadata": {},
   "outputs": [
    {
     "name": "stdout",
     "output_type": "stream",
     "text": [
      "asdsad sadfsa sadsadsadawsdasd\n",
      "dsfsdf fedsfesf\n"
     ]
    }
   ],
   "source": [
    "a=\"\"\"asdsad sadfsa sadsadsadawsdasd\n",
    "dsfsdf fedsfesf\"\"\"\n",
    "print(a)\n"
   ]
  },
  {
   "cell_type": "code",
   "execution_count": 65,
   "id": "fea1cc72-dc91-4e86-b145-5a99be43a096",
   "metadata": {},
   "outputs": [
    {
     "data": {
      "text/plain": [
       "'al'"
      ]
     },
     "execution_count": 65,
     "metadata": {},
     "output_type": "execute_result"
    }
   ],
   "source": [
    "a='table'\n",
    "a[1:4:2]"
   ]
  },
  {
   "cell_type": "code",
   "execution_count": 29,
   "id": "389e847c-eba3-4296-a017-19dd04a270ee",
   "metadata": {},
   "outputs": [
    {
     "data": {
      "text/plain": [
       "'ceo'"
      ]
     },
     "execution_count": 29,
     "metadata": {},
     "output_type": "execute_result"
    }
   ],
   "source": [
    "a='welcome to cttc'\n",
    "a[3:10:3]"
   ]
  },
  {
   "cell_type": "code",
   "execution_count": 41,
   "id": "20f4d923-975f-4e04-9dbe-d02a9f258be0",
   "metadata": {},
   "outputs": [
    {
     "data": {
      "text/plain": [
       "'Hello world'"
      ]
     },
     "execution_count": 41,
     "metadata": {},
     "output_type": "execute_result"
    }
   ],
   "source": [
    "s='HelLo World'\n",
    "s.capitalize()"
   ]
  },
  {
   "cell_type": "code",
   "execution_count": 43,
   "id": "5043019c-00d0-40d9-ae08-3d496160676a",
   "metadata": {},
   "outputs": [
    {
     "data": {
      "text/plain": [
       "'HELLO WORLD'"
      ]
     },
     "execution_count": 43,
     "metadata": {},
     "output_type": "execute_result"
    }
   ],
   "source": [
    "s='HelLo World'\n",
    "s.upper()"
   ]
  },
  {
   "cell_type": "code",
   "execution_count": 45,
   "id": "4d4c6556-781e-4656-bb8c-de1a2a995589",
   "metadata": {},
   "outputs": [
    {
     "data": {
      "text/plain": [
       "'hello world'"
      ]
     },
     "execution_count": 45,
     "metadata": {},
     "output_type": "execute_result"
    }
   ],
   "source": [
    "s='HelLo World'\n",
    "s.lower()"
   ]
  },
  {
   "cell_type": "code",
   "execution_count": 49,
   "id": "b775607e-f41f-4530-a05e-fda4ec294199",
   "metadata": {},
   "outputs": [
    {
     "data": {
      "text/plain": [
       "'Hello World Abc'"
      ]
     },
     "execution_count": 49,
     "metadata": {},
     "output_type": "execute_result"
    }
   ],
   "source": [
    "s='HelLo World abc'\n",
    "s.title()"
   ]
  },
  {
   "cell_type": "code",
   "execution_count": 51,
   "id": "dbdbafb9-1ba4-47ea-a05a-dba249f3341d",
   "metadata": {},
   "outputs": [
    {
     "data": {
      "text/plain": [
       "False"
      ]
     },
     "execution_count": 51,
     "metadata": {},
     "output_type": "execute_result"
    }
   ],
   "source": [
    "s='HelLo World'\n",
    "s.isupper()"
   ]
  },
  {
   "cell_type": "code",
   "execution_count": 61,
   "id": "43fcea9c-6695-448d-a3fa-e0abe508d442",
   "metadata": {},
   "outputs": [
    {
     "data": {
      "text/plain": [
       "True"
      ]
     },
     "execution_count": 61,
     "metadata": {},
     "output_type": "execute_result"
    }
   ],
   "source": [
    "s='HELLO WORLS'\n",
    "s.isupper()"
   ]
  },
  {
   "cell_type": "code",
   "execution_count": 57,
   "id": "409028b8-0b1a-43d3-906c-e7841bb20e35",
   "metadata": {},
   "outputs": [
    {
     "data": {
      "text/plain": [
       "'hELlO wORLD'"
      ]
     },
     "execution_count": 57,
     "metadata": {},
     "output_type": "execute_result"
    }
   ],
   "source": [
    "s='HelLo World'\n",
    "s.swapcase()"
   ]
  },
  {
   "cell_type": "code",
   "execution_count": 63,
   "id": "fcbc059e-032e-4588-a471-ffc22e67fdd1",
   "metadata": {},
   "outputs": [
    {
     "data": {
      "text/plain": [
       "'         HelLo World          '"
      ]
     },
     "execution_count": 63,
     "metadata": {},
     "output_type": "execute_result"
    }
   ],
   "source": [
    "s='HelLo World'\n",
    "s.center(30)"
   ]
  },
  {
   "cell_type": "code",
   "execution_count": 69,
   "id": "839c403c-b02b-4109-8a6a-97c2e5ee8151",
   "metadata": {},
   "outputs": [
    {
     "data": {
      "text/plain": [
       "['aaaaa', 'bbbbbb']"
      ]
     },
     "execution_count": 69,
     "metadata": {},
     "output_type": "execute_result"
    }
   ],
   "source": [
    "'aaaaa@bbbbbb'.split('@')\n"
   ]
  },
  {
   "cell_type": "code",
   "execution_count": 3,
   "id": "aaeeb1d4-b5b6-42bd-bf38-f39854fc4a02",
   "metadata": {},
   "outputs": [
    {
     "data": {
      "text/plain": [
       "'cccaaaaa@bbbbbbdddaaaaa@bbbbbbfffaaaaa@bbbbbbkkk'"
      ]
     },
     "execution_count": 3,
     "metadata": {},
     "output_type": "execute_result"
    }
   ],
   "source": [
    "'aaaaa@bbbbbb'.join(['ccc','ddd','fff','kkk'])"
   ]
  },
  {
   "cell_type": "code",
   "execution_count": 79,
   "id": "d3f0f22b-84d2-4799-92df-4437a32aaae6",
   "metadata": {},
   "outputs": [
    {
     "data": {
      "text/plain": [
       "True"
      ]
     },
     "execution_count": 79,
     "metadata": {},
     "output_type": "execute_result"
    }
   ],
   "source": [
    "'1234'.isdigit()"
   ]
  },
  {
   "cell_type": "code",
   "execution_count": 81,
   "id": "aaa10140-2eb8-4627-9f7f-324d57b83e33",
   "metadata": {},
   "outputs": [
    {
     "data": {
      "text/plain": [
       "True"
      ]
     },
     "execution_count": 81,
     "metadata": {},
     "output_type": "execute_result"
    }
   ],
   "source": [
    "'123abc'.isalnum()"
   ]
  },
  {
   "cell_type": "code",
   "execution_count": 85,
   "id": "ade8ef0c-93ac-4608-9e70-f44ea49ddec9",
   "metadata": {},
   "outputs": [
    {
     "ename": "NameError",
     "evalue": "name 'h' is not defined",
     "output_type": "error",
     "traceback": [
      "\u001b[1;31m-------------------------------------------\u001b[0m",
      "\u001b[1;31mNameError\u001b[0m Traceback (most recent call last)",
      "Cell \u001b[1;32mIn[85], line 1\u001b[0m\n\u001b[1;32m----> 1\u001b[0m s\u001b[38;5;241m.\u001b[39mstartswith(h)\n",
      "\u001b[1;31mNameError\u001b[0m: name 'h' is not defined"
     ]
    }
   ],
   "source": [
    "s.startswith(h)"
   ]
  },
  {
   "cell_type": "code",
   "execution_count": 93,
   "id": "f4c9824d-cfc5-4bf0-a168-f85c9d0921f7",
   "metadata": {},
   "outputs": [
    {
     "ename": "TypeError",
     "evalue": "'str' object does not support item assignment",
     "output_type": "error",
     "traceback": [
      "\u001b[1;31m-------------------------------------------\u001b[0m",
      "\u001b[1;31mTypeError\u001b[0m Traceback (most recent call last)",
      "Cell \u001b[1;32mIn[93], line 2\u001b[0m\n\u001b[0;32m      1\u001b[0m s\u001b[38;5;241m=\u001b[39m\u001b[38;5;124m'\u001b[39m\u001b[38;5;124mabc\u001b[39m\u001b[38;5;124m'\u001b[39m\n\u001b[1;32m----> 2\u001b[0m s[\u001b[38;5;241m1\u001b[39m]\u001b[38;5;241m=\u001b[39m\u001b[38;5;124m'\u001b[39m\u001b[38;5;124mr\u001b[39m\u001b[38;5;124m'\u001b[39m\n\u001b[0;32m      3\u001b[0m \u001b[38;5;28mprint\u001b[39m(s)\n",
      "\u001b[1;31mTypeError\u001b[0m: 'str' object does not support item assignment"
     ]
    }
   ],
   "source": [
    "s='abc'    #strings are imutable changes cannot be done if done only to that shell \n",
    "s[1]='r'\n",
    "print(s)\n"
   ]
  },
  {
   "cell_type": "code",
   "execution_count": 97,
   "id": "8a04e5fd-4f10-4a17-becb-304ff8ecdd0d",
   "metadata": {},
   "outputs": [
    {
     "name": "stdout",
     "output_type": "stream",
     "text": [
      "[12, 89.7, 99, True, 'aaa']\n"
     ]
    }
   ],
   "source": [
    "l=[12,89.7,'Table',True]\n",
    "l.append(\"aaa\")\n",
    "l[2]=99\n",
    "print(l)"
   ]
  },
  {
   "cell_type": "code",
   "execution_count": 17,
   "id": "83782a63-a964-45cd-be4b-2059369e5e38",
   "metadata": {},
   "outputs": [
    {
     "name": "stdout",
     "output_type": "stream",
     "text": [
      "[12, 89.7, 777, 'Table', True]\n"
     ]
    }
   ],
   "source": [
    "l=[12,89.7,'Table',True]\n",
    "l.insert(2,777)\n",
    "print(l)\n"
   ]
  },
  {
   "cell_type": "code",
   "execution_count": 111,
   "id": "e1d5176d-2ab3-49f2-8be6-cac26b42e7bf",
   "metadata": {},
   "outputs": [
    {
     "name": "stdout",
     "output_type": "stream",
     "text": [
      "89\n"
     ]
    },
    {
     "data": {
      "text/plain": [
       "78"
      ]
     },
     "execution_count": 111,
     "metadata": {},
     "output_type": "execute_result"
    }
   ],
   "source": [
    "a=89\n",
    "b=78\n",
    "print(a)\n",
    "b"
   ]
  },
  {
   "cell_type": "code",
   "execution_count": 9,
   "id": "66af0c78-94db-4c73-8812-151d4b026c54",
   "metadata": {},
   "outputs": [
    {
     "name": "stdout",
     "output_type": "stream",
     "text": [
      "[12, 89.7, 'Table', True, 199, 67, 10]\n"
     ]
    }
   ],
   "source": [
    "l=[12,89.7,'Table',True]\n",
    "l.extend([199,67,10])\n",
    "print(l)"
   ]
  },
  {
   "cell_type": "code",
   "execution_count": 21,
   "id": "debc7fd5-157f-4dfb-81f2-f8f4bb91f1e1",
   "metadata": {},
   "outputs": [
    {
     "name": "stdout",
     "output_type": "stream",
     "text": [
      "[89.7, 'Table', 12, True]\n"
     ]
    }
   ],
   "source": [
    "l=[12,89.7,'Table',12,True]\n",
    "l.remove(12) #remove first element\n",
    "print(l)\n"
   ]
  },
  {
   "cell_type": "code",
   "execution_count": 131,
   "id": "dd5ec788-3907-433e-b4c4-240cdd77505d",
   "metadata": {
    "scrolled": true
   },
   "outputs": [
    {
     "data": {
      "text/plain": [
       "2"
      ]
     },
     "execution_count": 131,
     "metadata": {},
     "output_type": "execute_result"
    }
   ],
   "source": [
    "l=[12,89.7,'Table',12,True]\n",
    "l.count(12)\n"
   ]
  },
  {
   "cell_type": "code",
   "execution_count": 33,
   "id": "b8775bc7-44cf-4bc4-add4-31bdd18bd3f0",
   "metadata": {},
   "outputs": [
    {
     "name": "stdout",
     "output_type": "stream",
     "text": [
      "{89.7, 90, 12, 78}\n"
     ]
    }
   ],
   "source": [
    "l={12,89.7,12,78,90,78,78,78}\n",
    "print(l)"
   ]
  },
  {
   "cell_type": "code",
   "execution_count": 148,
   "id": "f07f6367-0349-4a39-b137-1036ae9b0e4e",
   "metadata": {},
   "outputs": [
    {
     "name": "stdout",
     "output_type": "stream",
     "text": [
      "[90, 89.7, 78, 12, 12]\n"
     ]
    }
   ],
   "source": [
    "l=[12,89.7,12,78,90]\n",
    "l.sort(reverse=True)\n",
    "print(l)"
   ]
  },
  {
   "cell_type": "code",
   "execution_count": 156,
   "id": "2733a6ed-7094-482a-a9c1-febaf5b4def4",
   "metadata": {},
   "outputs": [
    {
     "data": {
      "text/plain": [
       "2"
      ]
     },
     "execution_count": 156,
     "metadata": {},
     "output_type": "execute_result"
    }
   ],
   "source": [
    "#tupple attribute\n",
    "t=(28,28,89.7,'Table',False)\n",
    "t.count(28)\n",
    "t.index\n"
   ]
  },
  {
   "cell_type": "code",
   "execution_count": 158,
   "id": "1aae975b-1a2f-433c-a2c4-51bd2f44921e",
   "metadata": {},
   "outputs": [
    {
     "data": {
      "text/plain": [
       "(89.7, 'Table')"
      ]
     },
     "execution_count": 158,
     "metadata": {},
     "output_type": "execute_result"
    }
   ],
   "source": [
    "t[2:4:]\n"
   ]
  },
  {
   "cell_type": "code",
   "execution_count": 160,
   "id": "e2edb85d-9d1e-4b2b-b55a-89e2fd2738f3",
   "metadata": {},
   "outputs": [
    {
     "data": {
      "text/plain": [
       "(28, 89.7, False)"
      ]
     },
     "execution_count": 160,
     "metadata": {},
     "output_type": "execute_result"
    }
   ],
   "source": [
    "t[0::2]"
   ]
  },
  {
   "cell_type": "code",
   "execution_count": 164,
   "id": "189ce74b-ecee-4042-ad7b-8586c832fc78",
   "metadata": {},
   "outputs": [
    {
     "data": {
      "text/plain": [
       "0"
      ]
     },
     "execution_count": 164,
     "metadata": {},
     "output_type": "execute_result"
    }
   ],
   "source": [
    "t.index(28)"
   ]
  },
  {
   "cell_type": "code",
   "execution_count": 3,
   "id": "76f783c1-de21-44e6-b6c9-7fb229091d75",
   "metadata": {},
   "outputs": [
    {
     "data": {
      "text/plain": [
       "set"
      ]
     },
     "execution_count": 3,
     "metadata": {},
     "output_type": "execute_result"
    }
   ],
   "source": [
    "#homogenous\n",
    "s1={1,2,3,4,5,6,7,8,9,0}\n",
    "type(s1)"
   ]
  },
  {
   "cell_type": "code",
   "execution_count": 5,
   "id": "66c76ceb-ddbf-435e-8872-b9932bd3c145",
   "metadata": {},
   "outputs": [
    {
     "data": {
      "text/plain": [
       "set"
      ]
     },
     "execution_count": 5,
     "metadata": {},
     "output_type": "execute_result"
    }
   ],
   "source": [
    "#heterogenous\n",
    "s1={'siva',89.1,'om',True}\n",
    "type(s1)"
   ]
  },
  {
   "cell_type": "code",
   "execution_count": 11,
   "id": "186bc33e-315c-48f4-87ea-a0228645d0bd",
   "metadata": {},
   "outputs": [
    {
     "data": {
      "text/plain": [
       "{1, 2, 3, 4, 5, 6, 89.1, 'siva', 'sneha'}"
      ]
     },
     "execution_count": 11,
     "metadata": {},
     "output_type": "execute_result"
    }
   ],
   "source": [
    "s2={1,2,3,4,5,6,2}\n",
    "s3={'siva',89.1,'sneha',True,2}\n",
    "s2.union(s3)"
   ]
  },
  {
   "cell_type": "code",
   "execution_count": 35,
   "id": "4a363ca4-cf9d-4c43-a577-30600884e10a",
   "metadata": {},
   "outputs": [
    {
     "data": {
      "text/plain": [
       "{3, 4, 5, 6}"
      ]
     },
     "execution_count": 35,
     "metadata": {},
     "output_type": "execute_result"
    }
   ],
   "source": [
    "s2={1,2,3,4,5,6}\n",
    "s3={'siva',89.1,'sneha',True,2}\n",
    "s2.difference(s3)"
   ]
  },
  {
   "cell_type": "code",
   "execution_count": 39,
   "id": "677281e7-24bf-46a5-a806-e1fffaf65149",
   "metadata": {},
   "outputs": [
    {
     "data": {
      "text/plain": [
       "True"
      ]
     },
     "execution_count": 39,
     "metadata": {},
     "output_type": "execute_result"
    }
   ],
   "source": [
    "s1={1,2,3,4,5,6}\n",
    "s2={'apple','z',7,8,9}\n",
    "s1.isdisjoint(s2)"
   ]
  },
  {
   "cell_type": "code",
   "execution_count": 23,
   "id": "0e1ace01-8e55-4337-8287-3fcd60e87713",
   "metadata": {},
   "outputs": [
    {
     "data": {
      "text/plain": [
       "True"
      ]
     },
     "execution_count": 23,
     "metadata": {},
     "output_type": "execute_result"
    }
   ],
   "source": [
    "s1={1,2,3,4,5}\n",
    "s2={4,5}\n",
    "s2.issubset(s1)"
   ]
  },
  {
   "cell_type": "code",
   "execution_count": 27,
   "id": "2a2d0ad0-505b-4093-a0b8-e93eea50f7ee",
   "metadata": {},
   "outputs": [
    {
     "data": {
      "text/plain": [
       "{1, 2, 3, 4, 5, 'sneha'}"
      ]
     },
     "execution_count": 27,
     "metadata": {},
     "output_type": "execute_result"
    }
   ],
   "source": [
    "x={1,2,3,4,5}\n",
    "x.add('sneha')\n",
    "x"
   ]
  },
  {
   "cell_type": "code",
   "execution_count": 31,
   "id": "f1d4a90a-f5da-4647-b69c-dd33933b03bb",
   "metadata": {},
   "outputs": [
    {
     "data": {
      "text/plain": [
       "{2, 3, 4, 5, 6}"
      ]
     },
     "execution_count": 31,
     "metadata": {},
     "output_type": "execute_result"
    }
   ],
   "source": [
    "a={1,2,3,4,5,6}\n",
    "a.pop()\n",
    "a"
   ]
  },
  {
   "cell_type": "code",
   "execution_count": null,
   "id": "dd2ebe72-37e5-42b9-8dd9-2a2b6e78de44",
   "metadata": {},
   "outputs": [],
   "source": [
    "dictionary\n",
    "\n"
   ]
  },
  {
   "cell_type": "code",
   "execution_count": 45,
   "id": "f4427ee6-81e1-4347-8189-394ce5488175",
   "metadata": {},
   "outputs": [
    {
     "ename": "NameError",
     "evalue": "name 'siva' is not defined",
     "output_type": "error",
     "traceback": [
      "\u001b[1;31m---------------------------------------------------------------------------\u001b[0m",
      "\u001b[1;31mNameError\u001b[0m                                 Traceback (most recent call last)",
      "Cell \u001b[1;32mIn[45], line 1\u001b[0m\n\u001b[1;32m----> 1\u001b[0m d\u001b[38;5;241m=\u001b[39m{\u001b[38;5;241m1\u001b[39m:\u001b[38;5;124m'\u001b[39m\u001b[38;5;124m100\u001b[39m\u001b[38;5;124m'\u001b[39m,\u001b[38;5;124m'\u001b[39m\u001b[38;5;124mA\u001b[39m\u001b[38;5;124m'\u001b[39m:\u001b[38;5;124m'\u001b[39m\u001b[38;5;124maeroplane\u001b[39m\u001b[38;5;124m'\u001b[39m,\u001b[38;5;124m'\u001b[39m\u001b[38;5;124mB\u001b[39m\u001b[38;5;124m'\u001b[39m:\u001b[38;5;124m'\u001b[39m\u001b[38;5;124mmani\u001b[39m\u001b[38;5;124m'\u001b[39m,\u001b[38;5;124m'\u001b[39m\u001b[38;5;124mc\u001b[39m\u001b[38;5;124m'\u001b[39m:siva}\n\u001b[0;32m      2\u001b[0m d\u001b[38;5;241m.\u001b[39mvalues()\n",
      "\u001b[1;31mNameError\u001b[0m: name 'siva' is not defined"
     ]
    }
   ],
   "source": [
    "d={1:'100','A':'aeroplane','B':'mani','c':'siva'}\n",
    "d.values() "
   ]
  },
  {
   "cell_type": "code",
   "execution_count": 47,
   "id": "279ea5fd-2847-4698-9311-c129889055d5",
   "metadata": {},
   "outputs": [
    {
     "data": {
      "text/plain": [
       "dict_items([(1, '100'), ('A', 'aeroplane'), ('B', 'mani'), ('c', '  siva')])"
      ]
     },
     "execution_count": 47,
     "metadata": {},
     "output_type": "execute_result"
    }
   ],
   "source": [
    "d={1:'100','A':'aeroplane','B':'mani','c':'  siva'}\n",
    "d.items()"
   ]
  },
  {
   "cell_type": "code",
   "execution_count": 67,
   "id": "c38f9bad-ef64-420a-a80e-0454925bf29a",
   "metadata": {},
   "outputs": [
    {
     "name": "stdout",
     "output_type": "stream",
     "text": [
      "{1: '100', 'A': 'aeroplane', 'B': 'mani', 'c': '  siva', 12: 'sneha'}\n"
     ]
    }
   ],
   "source": [
    "d={1:'100','A':'aeroplane','B':'mani','c':'  siva'}\n",
    "d.update({12:'sneha'})\n",
    "print(d)"
   ]
  },
  {
   "cell_type": "code",
   "execution_count": 57,
   "id": "2b083cac-d747-4355-99c7-d80016f1f670",
   "metadata": {},
   "outputs": [
    {
     "data": {
      "text/plain": [
       "{1: '100', 'A': 'aeroplane', 'B': 'mani', 'c': '  siva'}"
      ]
     },
     "execution_count": 57,
     "metadata": {},
     "output_type": "execute_result"
    }
   ],
   "source": [
    "d={1:'100','A':'aeroplane','B':'mani','c':'  siva',12:'sneha'}\n",
    "d.pop(12)\n",
    "d"
   ]
  },
  {
   "cell_type": "code",
   "execution_count": null,
   "id": "65250897-3fb4-4753-aff3-d1450ce04d09",
   "metadata": {},
   "outputs": [],
   "source": [
    "'an operator is a special symbols upon which we perform some operations on variables and values'"
   ]
  },
  {
   "cell_type": "code",
   "execution_count": null,
   "id": "4e81d1d2-0525-48fb-ad5c-3beab09d35f8",
   "metadata": {},
   "outputs": [],
   "source": [
    "membership operators\n",
    "\n",
    "in:True if var is the sequence.\n",
    "False if var is not in the sequence"
   ]
  },
  {
   "cell_type": "code",
   "execution_count": 73,
   "id": "95dca71f-8716-4946-8753-48b7e90300fb",
   "metadata": {},
   "outputs": [
    {
     "name": "stdin",
     "output_type": "stream",
     "text": [
      "enter the age 23\n"
     ]
    },
    {
     "name": "stdout",
     "output_type": "stream",
     "text": [
      "allowed to vote\n"
     ]
    }
   ],
   "source": [
    "x=int(input(\"enter the age\"))\n",
    "if(x>18 ):\n",
    "    print(\"allowed to vote\")\n",
    "else:\n",
    "    print(\"not allowed\")\n"
   ]
  },
  {
   "cell_type": "code",
   "execution_count": 79,
   "id": "c5b0259e-7c40-4ce4-9bcb-c924c2e6b86e",
   "metadata": {},
   "outputs": [
    {
     "name": "stdin",
     "output_type": "stream",
     "text": [
      "enter the character d\n"
     ]
    },
    {
     "name": "stdout",
     "output_type": "stream",
     "text": [
      "not a vowel\n"
     ]
    }
   ],
   "source": [
    "a=input(\"enter the character\")\n",
    "if a=='a' or a=='e' or a=='i' or a=='o' or a=='u':\n",
    "    print(\"it is a vowel\")\n",
    "else:\n",
    "    print(\"not a vowel\")\n",
    "    \n"
   ]
  },
  {
   "cell_type": "code",
   "execution_count": 15,
   "id": "234367e5-e635-4390-abaf-ee2aa37d0c45",
   "metadata": {},
   "outputs": [
    {
     "name": "stdin",
     "output_type": "stream",
     "text": [
      "enter the character t\n"
     ]
    },
    {
     "name": "stdout",
     "output_type": "stream",
     "text": [
      "not a vowel\n"
     ]
    }
   ],
   "source": [
    "X=input(\"enter the character\")\n",
    "a='aeiouAEIOU'\n",
    "if X in a:\n",
    "    print(\"it is a vowel\")\n",
    "else:\n",
    "    print(\"not a vowel\")\n",
    "    \n"
   ]
  },
  {
   "cell_type": "code",
   "execution_count": 5,
   "id": "1a7676a1-e879-423e-a90e-1033cab05b2d",
   "metadata": {},
   "outputs": [
    {
     "data": {
      "text/plain": [
       "False"
      ]
     },
     "execution_count": 5,
     "metadata": {},
     "output_type": "execute_result"
    }
   ],
   "source": [
    "a=260\n",
    "b=260\n",
    "a is b"
   ]
  },
  {
   "cell_type": "code",
   "execution_count": 28,
   "id": "f93cbf28-870e-40c5-9823-586fa545d819",
   "metadata": {},
   "outputs": [
    {
     "name": "stdin",
     "output_type": "stream",
     "text": [
      "enter 10th percentage 70\n",
      "enter 12th percentage 70\n",
      "enter b.tech percentage 77\n"
     ]
    },
    {
     "name": "stdout",
     "output_type": "stream",
     "text": [
      "you are eligible for scholarship\n"
     ]
    }
   ],
   "source": [
    "tenth=int(input('enter 10th percentage'))\n",
    "twelve=int(input('enter 12th percentage'))\n",
    "btech=int(input('enter b.tech percentage'))\n",
    "if tenth>60:\n",
    "    if twelve>60:\n",
    "        if btech>70:\n",
    "            print('you are eligible for scholarship')\n",
    "else:\n",
    "    print('you are not eligible for scolarship')\n",
    "    "
   ]
  },
  {
   "cell_type": "code",
   "execution_count": null,
   "id": "3b5513bb-493d-478e-a3a5-3023a791f02f",
   "metadata": {},
   "outputs": [],
   "source": [
    "tenth=int(input('enter 10th percentage'))\n",
    "if tenth>60:\n",
    "    twelve=int(input('enter 12th percentage'))\n",
    "    if twelve>60:\n",
    "        btech=int(input('enter b.tech percentage'))\n",
    "                if btech>70:\n",
    "                    print('you are eligible for scholarship')\n",
    "  \n",
    "else:\n",
    "    print('you are not eligible for scolarship')\n",
    "    \n",
    "\n"
   ]
  },
  {
   "cell_type": "code",
   "execution_count": 34,
   "id": "38be5a02-3aed-4dc0-98cd-b3b893974861",
   "metadata": {},
   "outputs": [
    {
     "name": "stdin",
     "output_type": "stream",
     "text": [
      "enter the number 56\n"
     ]
    },
    {
     "name": "stdout",
     "output_type": "stream",
     "text": [
      "no is positive\n",
      "no is even\n"
     ]
    }
   ],
   "source": [
    "x=int(input(\"enter the number\"))\n",
    "if x>0:\n",
    "    print('no is positive')\n",
    "    \n",
    "else:\n",
    "    print('no is negative')\n",
    "if x%2==0:\n",
    "        print('no is even')\n",
    "else:\n",
    "        print ('no is odd')\n"
   ]
  },
  {
   "cell_type": "code",
   "execution_count": 38,
   "id": "c44e748f-4fea-491d-8407-6bafe0fb84d9",
   "metadata": {},
   "outputs": [
    {
     "name": "stdin",
     "output_type": "stream",
     "text": [
      "enter the no 6\n"
     ]
    },
    {
     "name": "stdout",
     "output_type": "stream",
     "text": [
      "sunday\n"
     ]
    }
   ],
   "source": [
    "x=int(input('enter the no'))\n",
    "if(x==0):\n",
    "    print(\"monday\")\n",
    "elif(x==1):\n",
    "    print('tuesday')\n",
    "elif(x==2):\n",
    "    print('wednesday')\n",
    "elif(x==3):\n",
    "    print('thursday')\n",
    "elif(x==4):\n",
    "    print('friday')\n",
    "elif(x==5):\n",
    "    print('saturday')\n",
    "elif(x==6):\n",
    "    print('sunday')\n",
    "else:\n",
    "    print('enter btw 0 to 6')"
   ]
  },
  {
   "cell_type": "code",
   "execution_count": 5,
   "id": "69217bd9-4417-4e10-a008-c627f3de82fd",
   "metadata": {},
   "outputs": [
    {
     "name": "stdout",
     "output_type": "stream",
     "text": [
      "198\n",
      "195\n",
      "192\n",
      "189\n",
      "186\n",
      "183\n",
      "180\n",
      "177\n",
      "174\n",
      "171\n",
      "168\n",
      "165\n",
      "162\n",
      "159\n",
      "156\n",
      "153\n",
      "150\n",
      "147\n",
      "144\n",
      "141\n",
      "138\n",
      "135\n",
      "132\n",
      "129\n",
      "126\n",
      "123\n",
      "120\n",
      "117\n",
      "114\n",
      "111\n",
      "108\n",
      "105\n",
      "102\n"
     ]
    }
   ],
   "source": [
    "for x in range(200,101,-1):\n",
    "    if(x%3==0):\n",
    "        print(x)"
   ]
  },
  {
   "cell_type": "code",
   "execution_count": 46,
   "id": "ec145ec2-7cc3-4b44-97a8-8082a5f86a48",
   "metadata": {},
   "outputs": [
    {
     "name": "stdin",
     "output_type": "stream",
     "text": [
      "enter the number 5\n"
     ]
    },
    {
     "name": "stdout",
     "output_type": "stream",
     "text": [
      "5\n",
      "10\n",
      "15\n",
      "20\n",
      "25\n",
      "30\n",
      "35\n",
      "40\n",
      "45\n",
      "50\n"
     ]
    }
   ],
   "source": [
    "x=int(input(\"enter the number\"))\n",
    "for i in range(1,11):\n",
    "    print(x*i)\n",
    "      "
   ]
  },
  {
   "cell_type": "code",
   "execution_count": 98,
   "id": "5947c519-1d79-4f68-be70-c419e827adb7",
   "metadata": {},
   "outputs": [
    {
     "name": "stdin",
     "output_type": "stream",
     "text": [
      "enter the number 66\n"
     ]
    },
    {
     "name": "stdout",
     "output_type": "stream",
     "text": [
      "the number is not a prime  number\n"
     ]
    }
   ],
   "source": [
    "#to check weather the enter number is prime or not\n",
    "x=int(input(\"enter the number\"))\n",
    "y=0\n",
    "for i in range(2,x):\n",
    "    if x%i==0:\n",
    "        y=y+1\n",
    "if y==0:\n",
    "    print(\"no is a prime no\")\n",
    "else :\n",
    "    print(\"the number is not a prime  number\")"
   ]
  },
  {
   "cell_type": "code",
   "execution_count": 13,
   "id": "fe5d2002-faef-4b1d-8d9e-cd99da607bc3",
   "metadata": {},
   "outputs": [
    {
     "name": "stdout",
     "output_type": "stream",
     "text": [
      "the number 50  is not a prime  number\n",
      "the number 51  is not a prime  number\n",
      "the number 52  is not a prime  number\n",
      "53  is a prime no\n",
      "the number 54  is not a prime  number\n",
      "the number 55  is not a prime  number\n",
      "the number 56  is not a prime  number\n",
      "the number 57  is not a prime  number\n",
      "the number 58  is not a prime  number\n",
      "59  is a prime no\n",
      "the number 60  is not a prime  number\n",
      "61  is a prime no\n",
      "the number 62  is not a prime  number\n",
      "the number 63  is not a prime  number\n",
      "the number 64  is not a prime  number\n",
      "the number 65  is not a prime  number\n",
      "the number 66  is not a prime  number\n",
      "67  is a prime no\n",
      "the number 68  is not a prime  number\n",
      "the number 69  is not a prime  number\n",
      "the number 70  is not a prime  number\n",
      "71  is a prime no\n",
      "the number 72  is not a prime  number\n",
      "73  is a prime no\n",
      "the number 74  is not a prime  number\n",
      "the number 75  is not a prime  number\n",
      "the number 76  is not a prime  number\n",
      "the number 77  is not a prime  number\n",
      "the number 78  is not a prime  number\n",
      "79  is a prime no\n",
      "the number 80  is not a prime  number\n",
      "the number 81  is not a prime  number\n",
      "the number 82  is not a prime  number\n",
      "83  is a prime no\n",
      "the number 84  is not a prime  number\n",
      "the number 85  is not a prime  number\n",
      "the number 86  is not a prime  number\n",
      "the number 87  is not a prime  number\n",
      "the number 88  is not a prime  number\n",
      "89  is a prime no\n",
      "the number 90  is not a prime  number\n",
      "the number 91  is not a prime  number\n",
      "the number 92  is not a prime  number\n",
      "the number 93  is not a prime  number\n",
      "the number 94  is not a prime  number\n",
      "the number 95  is not a prime  number\n",
      "the number 96  is not a prime  number\n",
      "97  is a prime no\n",
      "the number 98  is not a prime  number\n",
      "the number 99  is not a prime  number\n",
      "the number 100  is not a prime  number\n",
      "101  is a prime no\n",
      "the number 102  is not a prime  number\n",
      "103  is a prime no\n",
      "the number 104  is not a prime  number\n",
      "the number 105  is not a prime  number\n",
      "the number 106  is not a prime  number\n",
      "107  is a prime no\n",
      "the number 108  is not a prime  number\n",
      "109  is a prime no\n",
      "the number 110  is not a prime  number\n",
      "the number 111  is not a prime  number\n",
      "the number 112  is not a prime  number\n",
      "113  is a prime no\n",
      "the number 114  is not a prime  number\n",
      "the number 115  is not a prime  number\n",
      "the number 116  is not a prime  number\n",
      "the number 117  is not a prime  number\n",
      "the number 118  is not a prime  number\n",
      "the number 119  is not a prime  number\n",
      "the number 120  is not a prime  number\n",
      "the number 121  is not a prime  number\n",
      "the number 122  is not a prime  number\n",
      "the number 123  is not a prime  number\n",
      "the number 124  is not a prime  number\n",
      "the number 125  is not a prime  number\n",
      "the number 126  is not a prime  number\n",
      "127  is a prime no\n",
      "the number 128  is not a prime  number\n",
      "the number 129  is not a prime  number\n",
      "the number 130  is not a prime  number\n",
      "131  is a prime no\n",
      "the number 132  is not a prime  number\n",
      "the number 133  is not a prime  number\n",
      "the number 134  is not a prime  number\n",
      "the number 135  is not a prime  number\n",
      "the number 136  is not a prime  number\n",
      "137  is a prime no\n",
      "the number 138  is not a prime  number\n",
      "139  is a prime no\n",
      "the number 140  is not a prime  number\n",
      "the number 141  is not a prime  number\n",
      "the number 142  is not a prime  number\n",
      "the number 143  is not a prime  number\n",
      "the number 144  is not a prime  number\n",
      "the number 145  is not a prime  number\n",
      "the number 146  is not a prime  number\n",
      "the number 147  is not a prime  number\n",
      "the number 148  is not a prime  number\n",
      "149  is a prime no\n",
      "the number 150  is not a prime  number\n",
      "151  is a prime no\n",
      "the number 152  is not a prime  number\n",
      "the number 153  is not a prime  number\n",
      "the number 154  is not a prime  number\n",
      "the number 155  is not a prime  number\n",
      "the number 156  is not a prime  number\n",
      "157  is a prime no\n",
      "the number 158  is not a prime  number\n",
      "the number 159  is not a prime  number\n",
      "the number 160  is not a prime  number\n",
      "the number 161  is not a prime  number\n",
      "the number 162  is not a prime  number\n",
      "163  is a prime no\n",
      "the number 164  is not a prime  number\n",
      "the number 165  is not a prime  number\n",
      "the number 166  is not a prime  number\n",
      "167  is a prime no\n",
      "the number 168  is not a prime  number\n",
      "the number 169  is not a prime  number\n",
      "the number 170  is not a prime  number\n",
      "the number 171  is not a prime  number\n",
      "the number 172  is not a prime  number\n",
      "173  is a prime no\n",
      "the number 174  is not a prime  number\n",
      "the number 175  is not a prime  number\n",
      "the number 176  is not a prime  number\n",
      "the number 177  is not a prime  number\n",
      "the number 178  is not a prime  number\n",
      "179  is a prime no\n",
      "the number 180  is not a prime  number\n",
      "181  is a prime no\n",
      "the number 182  is not a prime  number\n",
      "the number 183  is not a prime  number\n",
      "the number 184  is not a prime  number\n",
      "the number 185  is not a prime  number\n",
      "the number 186  is not a prime  number\n",
      "the number 187  is not a prime  number\n",
      "the number 188  is not a prime  number\n",
      "the number 189  is not a prime  number\n",
      "the number 190  is not a prime  number\n",
      "191  is a prime no\n",
      "the number 192  is not a prime  number\n",
      "193  is a prime no\n",
      "the number 194  is not a prime  number\n",
      "the number 195  is not a prime  number\n",
      "the number 196  is not a prime  number\n",
      "197  is a prime no\n",
      "the number 198  is not a prime  number\n",
      "199  is a prime no\n",
      "the number 200  is not a prime  number\n"
     ]
    }
   ],
   "source": [
    "#to check weather the enter number is prime or not\n",
    "for i in range(50,201):\n",
    "    y=0\n",
    "    for j in range(2,i):\n",
    "        if i%j==0:\n",
    "          y=y+1\n",
    "    if y==0:\n",
    "      print(i, \" is a prime no\")\n",
    "    else :\n",
    "      print(\"the number\",i,\" is not a prime  number\")\n",
    "    \n"
   ]
  },
  {
   "cell_type": "code",
   "execution_count": 28,
   "id": "c2eefa81-3ff5-4a98-bebe-98e3360091ec",
   "metadata": {},
   "outputs": [
    {
     "name": "stdin",
     "output_type": "stream",
     "text": [
      "enter the  number 6\n"
     ]
    },
    {
     "name": "stdout",
     "output_type": "stream",
     "text": [
      "6 x 1 = 6\n",
      "6 x 2 = 12\n",
      "6 x 3 = 18\n",
      "6 x 4 = 24\n",
      "6 x 5 = 30\n",
      "6 x 6 = 36\n",
      "6 x 7 = 42\n",
      "6 x 8 = 48\n",
      "6 x 9 = 54\n",
      "6 x 10 = 60\n"
     ]
    }
   ],
   "source": [
    "x=int(input(\"enter the  number\"))\n",
    "y=1\n",
    "while y<11:\n",
    "    print(x,\"x\",y,\"=\",x*y)\n",
    "    y+=1\n",
    "    "
   ]
  },
  {
   "cell_type": "code",
   "execution_count": 44,
   "id": "68326cae-1183-4bfc-8d36-84ab40c1d364",
   "metadata": {},
   "outputs": [
    {
     "name": "stdin",
     "output_type": "stream",
     "text": [
      "enter the number 19\n"
     ]
    },
    {
     "name": "stdout",
     "output_type": "stream",
     "text": [
      "prime number\n"
     ]
    }
   ],
   "source": [
    "x=int(input(\"enter the number\"))\n",
    "y=2\n",
    "z=0\n",
    "while(y<x):\n",
    "    if x%y==0:\n",
    "        z+=1\n",
    "    y+=1\n",
    "if z==0:\n",
    "    print(\"prime number\")\n",
    "else:\n",
    "    print(\"not a prime number\")"
   ]
  },
  {
   "cell_type": "code",
   "execution_count": 56,
   "id": "d746e03a-0733-45de-8838-b7d5bd3c6f8f",
   "metadata": {},
   "outputs": [
    {
     "name": "stdout",
     "output_type": "stream",
     "text": [
      "50 is not a prime number\n",
      "51 is not a prime number\n",
      "52 is not a prime number\n",
      "53 is a prime number\n",
      "54 is not a prime number\n",
      "55 is not a prime number\n",
      "56 is not a prime number\n",
      "57 is not a prime number\n",
      "58 is not a prime number\n",
      "59 is a prime number\n",
      "60 is not a prime number\n",
      "61 is a prime number\n",
      "62 is not a prime number\n",
      "63 is not a prime number\n",
      "64 is not a prime number\n",
      "65 is not a prime number\n",
      "66 is not a prime number\n",
      "67 is a prime number\n",
      "68 is not a prime number\n",
      "69 is not a prime number\n",
      "70 is not a prime number\n",
      "71 is a prime number\n",
      "72 is not a prime number\n",
      "73 is a prime number\n",
      "74 is not a prime number\n",
      "75 is not a prime number\n",
      "76 is not a prime number\n",
      "77 is not a prime number\n",
      "78 is not a prime number\n",
      "79 is a prime number\n",
      "80 is not a prime number\n",
      "81 is not a prime number\n",
      "82 is not a prime number\n",
      "83 is a prime number\n",
      "84 is not a prime number\n",
      "85 is not a prime number\n",
      "86 is not a prime number\n",
      "87 is not a prime number\n",
      "88 is not a prime number\n",
      "89 is a prime number\n",
      "90 is not a prime number\n",
      "91 is not a prime number\n",
      "92 is not a prime number\n",
      "93 is not a prime number\n",
      "94 is not a prime number\n",
      "95 is not a prime number\n",
      "96 is not a prime number\n",
      "97 is a prime number\n",
      "98 is not a prime number\n",
      "99 is not a prime number\n",
      "100 is not a prime number\n",
      "101 is a prime number\n",
      "102 is not a prime number\n",
      "103 is a prime number\n",
      "104 is not a prime number\n",
      "105 is not a prime number\n",
      "106 is not a prime number\n",
      "107 is a prime number\n",
      "108 is not a prime number\n",
      "109 is a prime number\n",
      "110 is not a prime number\n",
      "111 is not a prime number\n",
      "112 is not a prime number\n",
      "113 is a prime number\n",
      "114 is not a prime number\n",
      "115 is not a prime number\n",
      "116 is not a prime number\n",
      "117 is not a prime number\n",
      "118 is not a prime number\n",
      "119 is not a prime number\n",
      "120 is not a prime number\n",
      "121 is not a prime number\n",
      "122 is not a prime number\n",
      "123 is not a prime number\n",
      "124 is not a prime number\n",
      "125 is not a prime number\n",
      "126 is not a prime number\n",
      "127 is a prime number\n",
      "128 is not a prime number\n",
      "129 is not a prime number\n",
      "130 is not a prime number\n",
      "131 is a prime number\n",
      "132 is not a prime number\n",
      "133 is not a prime number\n",
      "134 is not a prime number\n",
      "135 is not a prime number\n",
      "136 is not a prime number\n",
      "137 is a prime number\n",
      "138 is not a prime number\n",
      "139 is a prime number\n",
      "140 is not a prime number\n",
      "141 is not a prime number\n",
      "142 is not a prime number\n",
      "143 is not a prime number\n",
      "144 is not a prime number\n",
      "145 is not a prime number\n",
      "146 is not a prime number\n",
      "147 is not a prime number\n",
      "148 is not a prime number\n",
      "149 is a prime number\n",
      "150 is not a prime number\n",
      "151 is a prime number\n",
      "152 is not a prime number\n",
      "153 is not a prime number\n",
      "154 is not a prime number\n",
      "155 is not a prime number\n",
      "156 is not a prime number\n",
      "157 is a prime number\n",
      "158 is not a prime number\n",
      "159 is not a prime number\n",
      "160 is not a prime number\n",
      "161 is not a prime number\n",
      "162 is not a prime number\n",
      "163 is a prime number\n",
      "164 is not a prime number\n",
      "165 is not a prime number\n",
      "166 is not a prime number\n",
      "167 is a prime number\n",
      "168 is not a prime number\n",
      "169 is not a prime number\n",
      "170 is not a prime number\n",
      "171 is not a prime number\n",
      "172 is not a prime number\n",
      "173 is a prime number\n",
      "174 is not a prime number\n",
      "175 is not a prime number\n",
      "176 is not a prime number\n",
      "177 is not a prime number\n",
      "178 is not a prime number\n",
      "179 is a prime number\n",
      "180 is not a prime number\n",
      "181 is a prime number\n",
      "182 is not a prime number\n",
      "183 is not a prime number\n",
      "184 is not a prime number\n",
      "185 is not a prime number\n",
      "186 is not a prime number\n",
      "187 is not a prime number\n",
      "188 is not a prime number\n",
      "189 is not a prime number\n",
      "190 is not a prime number\n",
      "191 is a prime number\n",
      "192 is not a prime number\n",
      "193 is a prime number\n",
      "194 is not a prime number\n",
      "195 is not a prime number\n",
      "196 is not a prime number\n",
      "197 is a prime number\n",
      "198 is not a prime number\n",
      "199 is a prime number\n",
      "200 is not a prime number\n"
     ]
    }
   ],
   "source": [
    "a=50\n",
    "while a<201:\n",
    "    y=2\n",
    "    z=0\n",
    "    while(y<a):\n",
    "        if a%y==0:\n",
    "            z+=1\n",
    "        y+=1\n",
    "    if z==0:\n",
    "        print(a ,\"is a prime number\")\n",
    "    else:\n",
    "        print(a ,\"is not a prime number\")\n",
    "    a+=1"
   ]
  },
  {
   "cell_type": "code",
   "execution_count": 61,
   "id": "4fa86efd-d937-4c84-948b-66c82eddf500",
   "metadata": {},
   "outputs": [
    {
     "name": "stdout",
     "output_type": "stream",
     "text": [
      "<class 'numpy.ndarray'>\n"
     ]
    },
    {
     "data": {
      "text/plain": [
       "array([2, 7, 3, 9, 4])"
      ]
     },
     "execution_count": 61,
     "metadata": {},
     "output_type": "execute_result"
    }
   ],
   "source": [
    "#numpy\n",
    "\n",
    "import numpy as np\n",
    "#1-D array\n",
    "a=np.array([2,7,3,9,4])\n",
    "print(type(a))\n",
    "a\n"
   ]
  },
  {
   "cell_type": "code",
   "execution_count": 13,
   "id": "75481b7a-3f49-4c8d-974a-362e2368053b",
   "metadata": {},
   "outputs": [
    {
     "data": {
      "text/plain": [
       "array(['2', 'cat', '23.5', 'True'], dtype='<U32')"
      ]
     },
     "execution_count": 13,
     "metadata": {},
     "output_type": "execute_result"
    }
   ],
   "source": [
    "b=np.array([2,'cat',23.5,True])\n",
    "b\n"
   ]
  },
  {
   "cell_type": "code",
   "execution_count": 17,
   "id": "74cabb4e-e026-4a6f-b4a4-5dad870e16ed",
   "metadata": {},
   "outputs": [
    {
     "data": {
      "text/plain": [
       "array([25. , 34.5, 20. ,  1. ])"
      ]
     },
     "execution_count": 17,
     "metadata": {},
     "output_type": "execute_result"
    }
   ],
   "source": [
    "b=np.array([25,34.5,20,True])\n",
    "b"
   ]
  },
  {
   "cell_type": "code",
   "execution_count": 9,
   "id": "1643f47f-4da2-4ce4-a043-3292e8ce842e",
   "metadata": {},
   "outputs": [
    {
     "data": {
      "text/plain": [
       "981"
      ]
     },
     "execution_count": 9,
     "metadata": {},
     "output_type": "execute_result"
    }
   ],
   "source": [
    "b1=([\n",
    "      [23,10,15],\n",
    "      [45,78,981]\n",
    "   ])\n",
    "b1[1][2]"
   ]
  },
  {
   "cell_type": "code",
   "execution_count": 73,
   "id": "4666b1bc-b62a-4244-9c90-a4552c4928bd",
   "metadata": {},
   "outputs": [
    {
     "data": {
      "text/plain": [
       "91"
      ]
     },
     "execution_count": 73,
     "metadata": {},
     "output_type": "execute_result"
    }
   ],
   "source": [
    "b2=np.array([\n",
    "    [23,10,15],\n",
    "    [45,78,91],\n",
    "    [40,76,99]\n",
    "           ])\n",
    "b2[1][2]"
   ]
  },
  {
   "cell_type": "code",
   "execution_count": 67,
   "id": "f135d8ab-2354-4194-bf38-780cc38eb1ac",
   "metadata": {},
   "outputs": [
    {
     "data": {
      "text/plain": [
       "(3, 3)"
      ]
     },
     "execution_count": 67,
     "metadata": {},
     "output_type": "execute_result"
    }
   ],
   "source": [
    "#array attributes\n",
    "b2.shape"
   ]
  },
  {
   "cell_type": "code",
   "execution_count": 19,
   "id": "30f9f47c-76d4-4b8b-849e-4c16f701a039",
   "metadata": {},
   "outputs": [
    {
     "data": {
      "text/plain": [
       "array([1, 2, 3, 4, 5, 6, 7, 8])"
      ]
     },
     "execution_count": 19,
     "metadata": {},
     "output_type": "execute_result"
    }
   ],
   "source": [
    "np.arange(1,9)"
   ]
  },
  {
   "cell_type": "code",
   "execution_count": 21,
   "id": "3d1a7d4e-b8c8-4bd9-bb73-a674c817513a",
   "metadata": {},
   "outputs": [
    {
     "data": {
      "text/plain": [
       "array([ 1,  3,  5,  7,  9, 11, 13, 15])"
      ]
     },
     "execution_count": 21,
     "metadata": {},
     "output_type": "execute_result"
    }
   ],
   "source": [
    "np.arange(1,17,2)"
   ]
  },
  {
   "cell_type": "code",
   "execution_count": 27,
   "id": "d2827584-9891-4c45-a607-fd735bcb4771",
   "metadata": {},
   "outputs": [
    {
     "data": {
      "text/plain": [
       "array([0., 0., 0., 0., 0., 0.])"
      ]
     },
     "execution_count": 27,
     "metadata": {},
     "output_type": "execute_result"
    }
   ],
   "source": [
    "np.zeros(6)"
   ]
  },
  {
   "cell_type": "code",
   "execution_count": 29,
   "id": "5d7c5e3b-b88d-4129-97d5-bf20f7424536",
   "metadata": {},
   "outputs": [
    {
     "data": {
      "text/plain": [
       "array([1., 1., 1., 1., 1., 1.])"
      ]
     },
     "execution_count": 29,
     "metadata": {},
     "output_type": "execute_result"
    }
   ],
   "source": [
    "np.ones(6)"
   ]
  },
  {
   "cell_type": "code",
   "execution_count": 35,
   "id": "e89b0a8a-691f-4a31-aa80-d7121bcb1591",
   "metadata": {},
   "outputs": [
    {
     "data": {
      "text/plain": [
       "array([[0., 0., 0.],\n",
       "       [0., 0., 0.],\n",
       "       [0., 0., 0.],\n",
       "       [0., 0., 0.],\n",
       "       [0., 0., 0.],\n",
       "       [0., 0., 0.]])"
      ]
     },
     "execution_count": 35,
     "metadata": {},
     "output_type": "execute_result"
    }
   ],
   "source": [
    "np.zeros((6,3))"
   ]
  },
  {
   "cell_type": "code",
   "execution_count": 39,
   "id": "53d5b5e8-c17a-43f5-938b-3188960327be",
   "metadata": {},
   "outputs": [
    {
     "data": {
      "text/plain": [
       "array([[1., 1., 1., 1.],\n",
       "       [1., 1., 1., 1.],\n",
       "       [1., 1., 1., 1.]])"
      ]
     },
     "execution_count": 39,
     "metadata": {},
     "output_type": "execute_result"
    }
   ],
   "source": [
    "np.ones((3,4))"
   ]
  },
  {
   "cell_type": "code",
   "execution_count": 47,
   "id": "2655fb50-51c5-44fc-9a1b-89d82fbeb1b9",
   "metadata": {},
   "outputs": [
    {
     "ename": "AttributeError",
     "evalue": "module 'numpy' has no attribute 'twos'",
     "output_type": "error",
     "traceback": [
      "\u001b[1;31m---------------------------------------------------------------------------\u001b[0m",
      "\u001b[1;31mAttributeError\u001b[0m                            Traceback (most recent call last)",
      "Cell \u001b[1;32mIn[47], line 1\u001b[0m\n\u001b[1;32m----> 1\u001b[0m np\u001b[38;5;241m.\u001b[39mtwos((\u001b[38;5;241m4\u001b[39m,\u001b[38;5;241m5\u001b[39m))\n",
      "File \u001b[1;32m~\\anaconda3\\Lib\\site-packages\\numpy\\__init__.py:333\u001b[0m, in \u001b[0;36m__getattr__\u001b[1;34m(attr)\u001b[0m\n\u001b[0;32m    330\u001b[0m     \u001b[38;5;124m\"\u001b[39m\u001b[38;5;124mRemoved in NumPy 1.25.0\u001b[39m\u001b[38;5;124m\"\u001b[39m\n\u001b[0;32m    331\u001b[0m     \u001b[38;5;28;01mraise\u001b[39;00m \u001b[38;5;167;01mRuntimeError\u001b[39;00m(\u001b[38;5;124m\"\u001b[39m\u001b[38;5;124mTester was removed in NumPy 1.25.\u001b[39m\u001b[38;5;124m\"\u001b[39m)\n\u001b[1;32m--> 333\u001b[0m \u001b[38;5;28;01mraise\u001b[39;00m \u001b[38;5;167;01mAttributeError\u001b[39;00m(\u001b[38;5;124m\"\u001b[39m\u001b[38;5;124mmodule \u001b[39m\u001b[38;5;132;01m{!r}\u001b[39;00m\u001b[38;5;124m has no attribute \u001b[39m\u001b[38;5;124m\"\u001b[39m\n\u001b[0;32m    334\u001b[0m                      \u001b[38;5;124m\"\u001b[39m\u001b[38;5;132;01m{!r}\u001b[39;00m\u001b[38;5;124m\"\u001b[39m\u001b[38;5;241m.\u001b[39mformat(\u001b[38;5;18m__name__\u001b[39m, attr))\n",
      "\u001b[1;31mAttributeError\u001b[0m: module 'numpy' has no attribute 'twos'"
     ]
    }
   ],
   "source": [
    "np.twos((4,5))"
   ]
  },
  {
   "cell_type": "code",
   "execution_count": 43,
   "id": "8213a448-f1d0-49db-82ff-74a077512378",
   "metadata": {},
   "outputs": [
    {
     "data": {
      "text/plain": [
       "array([[2, 2, 2, 2, 2],\n",
       "       [2, 2, 2, 2, 2],\n",
       "       [2, 2, 2, 2, 2],\n",
       "       [2, 2, 2, 2, 2]])"
      ]
     },
     "execution_count": 43,
     "metadata": {},
     "output_type": "execute_result"
    }
   ],
   "source": [
    "np.full((4,5),2)"
   ]
  },
  {
   "cell_type": "code",
   "execution_count": 45,
   "id": "f93e7891-73e1-4b60-8e56-720e7f441b89",
   "metadata": {},
   "outputs": [
    {
     "data": {
      "text/plain": [
       "array([[3, 3],\n",
       "       [3, 3],\n",
       "       [3, 3],\n",
       "       [3, 3],\n",
       "       [3, 3],\n",
       "       [3, 3]])"
      ]
     },
     "execution_count": 45,
     "metadata": {},
     "output_type": "execute_result"
    }
   ],
   "source": [
    "np.full((6,2),3)"
   ]
  },
  {
   "cell_type": "code",
   "execution_count": 51,
   "id": "8b8c3ab4-71cb-4a9f-9715-fab7a3e57124",
   "metadata": {},
   "outputs": [
    {
     "data": {
      "text/plain": [
       "array([[1., 0., 0., 0., 0., 0.],\n",
       "       [0., 1., 0., 0., 0., 0.],\n",
       "       [0., 0., 1., 0., 0., 0.],\n",
       "       [0., 0., 0., 1., 0., 0.],\n",
       "       [0., 0., 0., 0., 1., 0.],\n",
       "       [0., 0., 0., 0., 0., 1.]])"
      ]
     },
     "execution_count": 51,
     "metadata": {},
     "output_type": "execute_result"
    }
   ],
   "source": [
    "np.eye(6)"
   ]
  },
  {
   "cell_type": "code",
   "execution_count": 61,
   "id": "53d129fc-c12c-490a-9c95-11561423b92d",
   "metadata": {},
   "outputs": [
    {
     "data": {
      "text/plain": [
       "array([[1, 0, 0, 0, 0, 0],\n",
       "       [0, 1, 0, 0, 0, 0],\n",
       "       [0, 0, 1, 0, 0, 0],\n",
       "       [0, 0, 0, 1, 0, 0],\n",
       "       [0, 0, 0, 0, 1, 0],\n",
       "       [0, 0, 0, 0, 0, 1]])"
      ]
     },
     "execution_count": 61,
     "metadata": {},
     "output_type": "execute_result"
    }
   ],
   "source": [
    "np.eye(6,dtype=int)"
   ]
  },
  {
   "cell_type": "code",
   "execution_count": 69,
   "id": "ed651cdc-4c13-477a-ab1a-88e46e22c97d",
   "metadata": {},
   "outputs": [
    {
     "data": {
      "text/plain": [
       "array([ 1.  ,  1.95,  2.9 ,  3.85,  4.8 ,  5.75,  6.7 ,  7.65,  8.6 ,\n",
       "        9.55, 10.5 , 11.45, 12.4 , 13.35, 14.3 , 15.25, 16.2 , 17.15,\n",
       "       18.1 , 19.05, 20.  ])"
      ]
     },
     "execution_count": 69,
     "metadata": {},
     "output_type": "execute_result"
    }
   ],
   "source": [
    "np.linspace(1,20,21)"
   ]
  },
  {
   "cell_type": "code",
   "execution_count": 71,
   "id": "092a6aa9-1aaa-4f5d-8448-418c799e0c76",
   "metadata": {},
   "outputs": [
    {
     "data": {
      "text/plain": [
       "array([ 1.        ,  3.57894737,  6.15789474,  8.73684211, 11.31578947,\n",
       "       13.89473684, 16.47368421, 19.05263158, 21.63157895, 24.21052632,\n",
       "       26.78947368, 29.36842105, 31.94736842, 34.52631579, 37.10526316,\n",
       "       39.68421053, 42.26315789, 44.84210526, 47.42105263, 50.        ])"
      ]
     },
     "execution_count": 71,
     "metadata": {},
     "output_type": "execute_result"
    }
   ],
   "source": [
    "np.linspace(1,50,20)"
   ]
  },
  {
   "cell_type": "code",
   "execution_count": 73,
   "id": "a9b90bf7-d194-413a-8eec-8ffc7a4402f4",
   "metadata": {},
   "outputs": [
    {
     "data": {
      "text/plain": [
       "array([ 1.        ,  1.65517241,  2.31034483,  2.96551724,  3.62068966,\n",
       "        4.27586207,  4.93103448,  5.5862069 ,  6.24137931,  6.89655172,\n",
       "        7.55172414,  8.20689655,  8.86206897,  9.51724138, 10.17241379,\n",
       "       10.82758621, 11.48275862, 12.13793103, 12.79310345, 13.44827586,\n",
       "       14.10344828, 14.75862069, 15.4137931 , 16.06896552, 16.72413793,\n",
       "       17.37931034, 18.03448276, 18.68965517, 19.34482759, 20.        ])"
      ]
     },
     "execution_count": 73,
     "metadata": {},
     "output_type": "execute_result"
    }
   ],
   "source": [
    "np.linspace(1,20,30)"
   ]
  },
  {
   "cell_type": "code",
   "execution_count": 122,
   "id": "b568c74c-acb4-4a2c-8307-26b4527c09c9",
   "metadata": {},
   "outputs": [
    {
     "data": {
      "text/plain": [
       "0.2384166516936198"
      ]
     },
     "execution_count": 122,
     "metadata": {},
     "output_type": "execute_result"
    }
   ],
   "source": [
    "np.random.rand()# random no btw 0 to 1"
   ]
  },
  {
   "cell_type": "code",
   "execution_count": 120,
   "id": "ef0f2639-ca9a-4401-a6ac-6fb4792c6463",
   "metadata": {},
   "outputs": [
    {
     "data": {
      "text/plain": [
       "array([0.06099365, 0.91218936, 0.07742362, 0.42850131, 0.84242836])"
      ]
     },
     "execution_count": 120,
     "metadata": {},
     "output_type": "execute_result"
    }
   ],
   "source": [
    "np.random.rand(5)"
   ]
  },
  {
   "cell_type": "code",
   "execution_count": 114,
   "id": "29cde4da-31ca-4974-aa71-32dc426e66b5",
   "metadata": {},
   "outputs": [
    {
     "data": {
      "text/plain": [
       "array([[0.61335227, 0.6271698 , 0.85722372, 0.67924916],\n",
       "       [0.89148989, 0.24064944, 0.7857162 , 0.48174564],\n",
       "       [0.11411275, 0.77519607, 0.43866532, 0.60057211]])"
      ]
     },
     "execution_count": 114,
     "metadata": {},
     "output_type": "execute_result"
    }
   ],
   "source": [
    "np.random.rand(3,4)"
   ]
  },
  {
   "cell_type": "code",
   "execution_count": null,
   "id": "075509a7-46e2-408d-8b88-91d2e0a14a7a",
   "metadata": {},
   "outputs": [],
   "source": [
    "int(np.random.rand()*10)"
   ]
  },
  {
   "cell_type": "code",
   "execution_count": 141,
   "id": "4c0ec2e9-8713-42a2-897c-83e9c5c3faab",
   "metadata": {},
   "outputs": [
    {
     "data": {
      "text/plain": [
       "4"
      ]
     },
     "execution_count": 141,
     "metadata": {},
     "output_type": "execute_result"
    }
   ],
   "source": [
    "np.random.randint(5)"
   ]
  },
  {
   "cell_type": "code",
   "execution_count": 143,
   "id": "4f5792eb-9882-4fb4-9804-321c29e4a61f",
   "metadata": {},
   "outputs": [
    {
     "data": {
      "text/plain": [
       "array([17,  9, 17,  4, 16])"
      ]
     },
     "execution_count": 143,
     "metadata": {},
     "output_type": "execute_result"
    }
   ],
   "source": [
    "np.random.randint(1,20,5) #from 1 to 20 -> 5 random no"
   ]
  },
  {
   "cell_type": "code",
   "execution_count": 145,
   "id": "0a995033-acb7-4816-a701-a366d3f0da48",
   "metadata": {},
   "outputs": [
    {
     "data": {
      "text/plain": [
       "array([[54, 22, 53, 61, 71],\n",
       "       [79, 58, 53, 15, 88],\n",
       "       [56, 65, 12, 44, 45],\n",
       "       [62, 27, 54, 32, 29]])"
      ]
     },
     "execution_count": 145,
     "metadata": {},
     "output_type": "execute_result"
    }
   ],
   "source": [
    "np.random.randint(1,100,(4,5)) # 4*5 matrix of random number"
   ]
  },
  {
   "cell_type": "code",
   "execution_count": 153,
   "id": "05baf1be-de4b-4713-ade2-bafda92321d1",
   "metadata": {
    "scrolled": true
   },
   "outputs": [
    {
     "data": {
      "text/plain": [
       "array([70, 59, 84, 91, 32])"
      ]
     },
     "execution_count": 153,
     "metadata": {},
     "output_type": "execute_result"
    }
   ],
   "source": [
    "a=np.array([30,55,79,25,30])\n",
    "b=np.array([40,4,5,66,2])\n",
    "np.add(a,b)"
   ]
  },
  {
   "cell_type": "code",
   "execution_count": 155,
   "id": "319fd9ea-4535-4219-9e04-2beac6ab5f5b",
   "metadata": {},
   "outputs": [
    {
     "data": {
      "text/plain": [
       "array([-10,  51,  74, -41,  28])"
      ]
     },
     "execution_count": 155,
     "metadata": {},
     "output_type": "execute_result"
    }
   ],
   "source": [
    "np.subtract(a,b)"
   ]
  },
  {
   "cell_type": "code",
   "execution_count": 159,
   "id": "b322653c-5e25-4f1b-a364-03940c146ac6",
   "metadata": {},
   "outputs": [
    {
     "data": {
      "text/plain": [
       "array([ 0.75      , 13.75      , 15.8       ,  0.37878788, 15.        ])"
      ]
     },
     "execution_count": 159,
     "metadata": {},
     "output_type": "execute_result"
    }
   ],
   "source": [
    "np.divide(a,b)"
   ]
  },
  {
   "cell_type": "code",
   "execution_count": 161,
   "id": "8030e76c-215b-4e3a-a845-c4d8743cbec0",
   "metadata": {},
   "outputs": [
    {
     "data": {
      "text/plain": [
       "array([1200,  220,  395, 1650,   60])"
      ]
     },
     "execution_count": 161,
     "metadata": {},
     "output_type": "execute_result"
    }
   ],
   "source": [
    "np.multiply(a,b)"
   ]
  },
  {
   "cell_type": "code",
   "execution_count": 163,
   "id": "10e427a6-0d0e-4db5-be67-5ed123646c97",
   "metadata": {},
   "outputs": [
    {
     "data": {
      "text/plain": [
       "array([30,  3,  4, 25,  0])"
      ]
     },
     "execution_count": 163,
     "metadata": {},
     "output_type": "execute_result"
    }
   ],
   "source": [
    "np.mod(a,b) # remainder"
   ]
  },
  {
   "cell_type": "code",
   "execution_count": 165,
   "id": "42e19778-b815-4995-9b15-2581d7ae130c",
   "metadata": {},
   "outputs": [
    {
     "data": {
      "text/plain": [
       "array([3.68887945, 1.38629436, 1.60943791, 4.18965474, 0.69314718])"
      ]
     },
     "execution_count": 165,
     "metadata": {},
     "output_type": "execute_result"
    }
   ],
   "source": [
    "np.log(b)"
   ]
  },
  {
   "cell_type": "code",
   "execution_count": 167,
   "id": "50be5633-65f9-4136-9269-47fa27a3a134",
   "metadata": {},
   "outputs": [
    {
     "data": {
      "text/plain": [
       "array([5.47722558, 7.41619849, 8.88819442, 5.        , 5.47722558])"
      ]
     },
     "execution_count": 167,
     "metadata": {},
     "output_type": "execute_result"
    }
   ],
   "source": [
    "np.sqrt(a)"
   ]
  },
  {
   "cell_type": "code",
   "execution_count": 169,
   "id": "a772586f-af81-4701-950f-625eacb4e647",
   "metadata": {},
   "outputs": [
    {
     "name": "stdout",
     "output_type": "stream",
     "text": [
      "[40  4  5 66  2]\n"
     ]
    },
    {
     "data": {
      "text/plain": [
       "array([ 64000,     64,    125, 287496,      8], dtype=int32)"
      ]
     },
     "execution_count": 169,
     "metadata": {},
     "output_type": "execute_result"
    }
   ],
   "source": [
    "print(b)\n",
    "np.power(b,3)"
   ]
  },
  {
   "cell_type": "code",
   "execution_count": 171,
   "id": "0017691e-dd19-4381-9fe3-c20e8697cf37",
   "metadata": {},
   "outputs": [
    {
     "data": {
      "text/plain": [
       "array([-0.98803162, -0.99975517, -0.44411267, -0.13235175, -0.98803162])"
      ]
     },
     "execution_count": 171,
     "metadata": {},
     "output_type": "execute_result"
    }
   ],
   "source": [
    "np.sin(a)"
   ]
  },
  {
   "cell_type": "code",
   "execution_count": 173,
   "id": "ce247bfc-28e3-485a-8f00-349ec37e9b92",
   "metadata": {},
   "outputs": [
    {
     "data": {
      "text/plain": [
       "array([ 0.15425145,  0.02212676, -0.89597095,  0.99120281,  0.15425145])"
      ]
     },
     "execution_count": 173,
     "metadata": {},
     "output_type": "execute_result"
    }
   ],
   "source": [
    "np.cos(a)"
   ]
  },
  {
   "cell_type": "code",
   "execution_count": 175,
   "id": "d12eab24-94a8-46b0-b6b6-238eeebc818f",
   "metadata": {},
   "outputs": [
    {
     "data": {
      "text/plain": [
       "array([ -6.4053312 , -45.18308791,   0.49567753,  -0.13352641,\n",
       "        -6.4053312 ])"
      ]
     },
     "execution_count": 175,
     "metadata": {},
     "output_type": "execute_result"
    }
   ],
   "source": [
    "np.tan(a)"
   ]
  },
  {
   "cell_type": "code",
   "execution_count": 177,
   "id": "e219cae3-8cac-4c96-b1e8-3b94c218a8fc",
   "metadata": {},
   "outputs": [
    {
     "data": {
      "text/plain": [
       "array([-0.15611995, -0.02213217,  2.01744064, -7.48915531, -0.15611995])"
      ]
     },
     "execution_count": 177,
     "metadata": {},
     "output_type": "execute_result"
    }
   ],
   "source": [
    "#np.cot xxx \n",
    "1/np.tan(a)"
   ]
  },
  {
   "cell_type": "code",
   "execution_count": 183,
   "id": "c64a1481-c1b7-45dd-a0e2-a1ebd0e17002",
   "metadata": {},
   "outputs": [
    {
     "name": "stdout",
     "output_type": "stream",
     "text": [
      "[30 55 79 25 30]\n"
     ]
    },
    {
     "data": {
      "text/plain": [
       "79"
      ]
     },
     "execution_count": 183,
     "metadata": {},
     "output_type": "execute_result"
    }
   ],
   "source": [
    "print(a)\n",
    "np.max(a)"
   ]
  },
  {
   "cell_type": "code",
   "execution_count": 185,
   "id": "487fb231-af5e-4359-b4a2-993fac0fc06d",
   "metadata": {},
   "outputs": [
    {
     "data": {
      "text/plain": [
       "25"
      ]
     },
     "execution_count": 185,
     "metadata": {},
     "output_type": "execute_result"
    }
   ],
   "source": [
    "np.min(a)"
   ]
  },
  {
   "cell_type": "code",
   "execution_count": 187,
   "id": "f2058a35-07c0-4189-abc8-f00f9b1f75c1",
   "metadata": {},
   "outputs": [
    {
     "data": {
      "text/plain": [
       "43.8"
      ]
     },
     "execution_count": 187,
     "metadata": {},
     "output_type": "execute_result"
    }
   ],
   "source": [
    "np.mean(a)"
   ]
  },
  {
   "cell_type": "code",
   "execution_count": 189,
   "id": "e790f39f-d7f3-4ec9-aa72-63a50dd0e55d",
   "metadata": {},
   "outputs": [
    {
     "data": {
      "text/plain": [
       "30.0"
      ]
     },
     "execution_count": 189,
     "metadata": {},
     "output_type": "execute_result"
    }
   ],
   "source": [
    "np.median(a)"
   ]
  },
  {
   "cell_type": "code",
   "execution_count": 191,
   "id": "d6bcf8a5-68a9-4ca7-b7e9-9f28c38ff435",
   "metadata": {},
   "outputs": [
    {
     "data": {
      "text/plain": [
       "20.488045294756645"
      ]
     },
     "execution_count": 191,
     "metadata": {},
     "output_type": "execute_result"
    }
   ],
   "source": [
    "np.std(a)"
   ]
  },
  {
   "cell_type": "code",
   "execution_count": 193,
   "id": "ae608bf9-d9c8-465b-b09b-5801e1161d50",
   "metadata": {},
   "outputs": [
    {
     "data": {
      "text/plain": [
       "419.75999999999993"
      ]
     },
     "execution_count": 193,
     "metadata": {},
     "output_type": "execute_result"
    }
   ],
   "source": [
    "np.var(a)"
   ]
  },
  {
   "cell_type": "code",
   "execution_count": 195,
   "id": "63b43ef7-264b-415d-b454-d4f68207e9a3",
   "metadata": {},
   "outputs": [
    {
     "data": {
      "text/plain": [
       "array([10, 10, 10, 10, 20, 20, 20, 20, 30, 30, 30, 30, 40, 40, 40, 40])"
      ]
     },
     "execution_count": 195,
     "metadata": {},
     "output_type": "execute_result"
    }
   ],
   "source": [
    "c=np.array([10,20,30,40])\n",
    "np.repeat(c,4)"
   ]
  },
  {
   "cell_type": "code",
   "execution_count": 197,
   "id": "2b298828-6c5a-4cf6-b1c7-c31dbfeac4a9",
   "metadata": {},
   "outputs": [
    {
     "data": {
      "text/plain": [
       "array([10, 20, 30, 40, 10, 20, 30, 40, 10, 20, 30, 40, 10, 20, 30, 40])"
      ]
     },
     "execution_count": 197,
     "metadata": {},
     "output_type": "execute_result"
    }
   ],
   "source": [
    "np.tile(c,4)"
   ]
  },
  {
   "cell_type": "code",
   "execution_count": 201,
   "id": "05e87020-f4be-4a55-b15b-56cb8998ea6d",
   "metadata": {},
   "outputs": [
    {
     "data": {
      "text/plain": [
       "(array([2, 5, 9], dtype=int64),)"
      ]
     },
     "execution_count": 201,
     "metadata": {},
     "output_type": "execute_result"
    }
   ],
   "source": [
    "d=np.array([1,2,3,5,4,3,2,6,7,3])\n",
    "np.where(d==3)"
   ]
  },
  {
   "cell_type": "code",
   "execution_count": 203,
   "id": "660042a5-da18-44bb-bac7-1dcb9f33e881",
   "metadata": {},
   "outputs": [
    {
     "data": {
      "text/plain": [
       "3"
      ]
     },
     "execution_count": 203,
     "metadata": {},
     "output_type": "execute_result"
    }
   ],
   "source": [
    "a=np.array([30,65,55,79,25])\n",
    "np.argmax(a)  # position of the highest value"
   ]
  },
  {
   "cell_type": "code",
   "execution_count": 205,
   "id": "2c5ea725-516d-4bd1-a527-ecf2c16ceb36",
   "metadata": {},
   "outputs": [
    {
     "data": {
      "text/plain": [
       "4"
      ]
     },
     "execution_count": 205,
     "metadata": {},
     "output_type": "execute_result"
    }
   ],
   "source": [
    "np.argmin(a)\n",
    "# position of the minimum value"
   ]
  },
  {
   "cell_type": "code",
   "execution_count": 209,
   "id": "0d7dd1c5-9fad-4c66-8e6b-cf1d36119463",
   "metadata": {},
   "outputs": [
    {
     "data": {
      "text/plain": [
       "array([[ 9, 25],\n",
       "       [10, 30]])"
      ]
     },
     "execution_count": 209,
     "metadata": {},
     "output_type": "execute_result"
    }
   ],
   "source": [
    "a=np.array([[2,3],[2,4]])\n",
    "b=np.array([[3,5],[1,5]])\n",
    "np.dot(a,b)"
   ]
  },
  {
   "cell_type": "code",
   "execution_count": 211,
   "id": "b0e1d8a3-61b6-4c6b-81d9-e4a926518816",
   "metadata": {},
   "outputs": [
    {
     "data": {
      "text/plain": [
       "array([60, 30, 25, 49,  2,  9, 12])"
      ]
     },
     "execution_count": 211,
     "metadata": {},
     "output_type": "execute_result"
    }
   ],
   "source": [
    "a=np.array([60,30,25,49,2,9,12])\n",
    "a"
   ]
  },
  {
   "cell_type": "code",
   "execution_count": 213,
   "id": "b8b6bdbf-e996-472a-877e-ead4455750a0",
   "metadata": {},
   "outputs": [
    {
     "data": {
      "text/plain": [
       "array([[15,  2, 15,  4,  6],\n",
       "       [10,  7,  3,  2,  2],\n",
       "       [15, 11, 16, 20, 12],\n",
       "       [ 9, 22,  5,  5, 12],\n",
       "       [19,  2,  8,  6,  1]])"
      ]
     },
     "execution_count": 213,
     "metadata": {},
     "output_type": "execute_result"
    }
   ],
   "source": [
    "#indexing and slicing in 2d array\n",
    "b=np.random.randint(1,25,(5,5))\n",
    "b"
   ]
  },
  {
   "cell_type": "code",
   "execution_count": 215,
   "id": "5c5d2767-8ad9-4ab6-b67b-7caaa205cbe5",
   "metadata": {},
   "outputs": [
    {
     "data": {
      "text/plain": [
       "2"
      ]
     },
     "execution_count": 215,
     "metadata": {},
     "output_type": "execute_result"
    }
   ],
   "source": [
    "b[1,3]"
   ]
  },
  {
   "cell_type": "code",
   "execution_count": 217,
   "id": "4c768ece-1c49-4988-81ed-cf2a74b26198",
   "metadata": {},
   "outputs": [
    {
     "name": "stdout",
     "output_type": "stream",
     "text": [
      "[[15  2 15  4  6]\n",
      " [10  7  3  2  2]\n",
      " [15 11 16 20 12]\n",
      " [ 9 22  5  5 12]\n",
      " [19  2  8  6  1]]\n"
     ]
    },
    {
     "data": {
      "text/plain": [
       "array([[10,  3,  2],\n",
       "       [15, 16, 12],\n",
       "       [ 9,  5, 12]])"
      ]
     },
     "execution_count": 217,
     "metadata": {},
     "output_type": "execute_result"
    }
   ],
   "source": [
    "#row slicing: [start:stop+1:step]\n",
    "#column slicing : [start:stop+1:step]\n",
    "#syntax : var [row_slicing, col_slicing]\n",
    "print(b)\n",
    "b[1:4:1,0:5:2]"
   ]
  },
  {
   "cell_type": "code",
   "execution_count": 223,
   "id": "18ac99d9-b35a-4c3a-99ef-a8ae48d95d61",
   "metadata": {},
   "outputs": [
    {
     "data": {
      "text/plain": [
       "array([[2, 3, 3, 5],\n",
       "       [2, 4, 1, 5]])"
      ]
     },
     "execution_count": 223,
     "metadata": {},
     "output_type": "execute_result"
    }
   ],
   "source": [
    "a=np.array([[2,3],[2,4]])\n",
    "b=np.array([[3,5],[1,5]])\n",
    "np.concatenate((a,b),axis=1)"
   ]
  },
  {
   "cell_type": "code",
   "execution_count": 225,
   "id": "412d5e00-1d07-41a4-b50b-1a2b0aca7333",
   "metadata": {},
   "outputs": [
    {
     "data": {
      "text/plain": [
       "array([[2, 3],\n",
       "       [2, 4],\n",
       "       [3, 5],\n",
       "       [1, 5]])"
      ]
     },
     "execution_count": 225,
     "metadata": {},
     "output_type": "execute_result"
    }
   ],
   "source": [
    "a=np.array([[2,3],[2,4]])\n",
    "b=np.array([[3,5],[1,5]])\n",
    "np.concatenate((a,b),axis=0)"
   ]
  },
  {
   "cell_type": "code",
   "execution_count": 19,
   "id": "a0bce8a3-436b-45be-bdde-e377611f70b4",
   "metadata": {},
   "outputs": [],
   "source": [
    "import pandas as pd\n",
    "import numpy as np"
   ]
  },
  {
   "cell_type": "code",
   "execution_count": 81,
   "id": "eb040696-e583-4291-b2db-bf2daf9d297c",
   "metadata": {},
   "outputs": [
    {
     "data": {
      "text/plain": [
       "0    a\n",
       "1    b\n",
       "2    d\n",
       "3    f\n",
       "4    e\n",
       "dtype: object"
      ]
     },
     "execution_count": 81,
     "metadata": {},
     "output_type": "execute_result"
    }
   ],
   "source": [
    "#creating series\n",
    "s = pd.Series(['a','b','d','f','e'])\n",
    "s"
   ]
  },
  {
   "cell_type": "code",
   "execution_count": 83,
   "id": "fa4be68b-0cf7-47f4-9869-f5d2dbbea331",
   "metadata": {},
   "outputs": [
    {
     "data": {
      "text/plain": [
       "10    a\n",
       "20    b\n",
       "30    d\n",
       "40    f\n",
       "50    e\n",
       "dtype: object"
      ]
     },
     "execution_count": 83,
     "metadata": {},
     "output_type": "execute_result"
    }
   ],
   "source": [
    "s = pd.Series(['a','b','d','f','e'],index=[10,20,30,40,50])\n",
    "s"
   ]
  },
  {
   "cell_type": "code",
   "execution_count": 85,
   "id": "f474db10-90af-416a-88b7-b920deadeb2a",
   "metadata": {},
   "outputs": [
    {
     "data": {
      "text/plain": [
       "'e'"
      ]
     },
     "execution_count": 85,
     "metadata": {},
     "output_type": "execute_result"
    }
   ],
   "source": [
    "s[50]"
   ]
  },
  {
   "cell_type": "code",
   "execution_count": 13,
   "id": "53a130e3-b4f1-4723-bd5c-2e014d5943c8",
   "metadata": {},
   "outputs": [
    {
     "data": {
      "text/plain": [
       "'d'"
      ]
     },
     "execution_count": 13,
     "metadata": {},
     "output_type": "execute_result"
    }
   ],
   "source": [
    "s[30]"
   ]
  },
  {
   "cell_type": "code",
   "execution_count": 15,
   "id": "078d003d-fb16-485a-83e3-cdf51f1756e0",
   "metadata": {},
   "outputs": [
    {
     "data": {
      "text/plain": [
       "20    b\n",
       "30    d\n",
       "dtype: object"
      ]
     },
     "execution_count": 15,
     "metadata": {},
     "output_type": "execute_result"
    }
   ],
   "source": [
    "s[1:3:1] #slicing"
   ]
  },
  {
   "cell_type": "code",
   "execution_count": 21,
   "id": "9f19ac62-1686-491a-987a-d302dfbbffce",
   "metadata": {},
   "outputs": [
    {
     "data": {
      "text/plain": [
       "10    10\n",
       "20    20\n",
       "30    30\n",
       "40    50\n",
       "50    90\n",
       "dtype: int64"
      ]
     },
     "execution_count": 21,
     "metadata": {},
     "output_type": "execute_result"
    }
   ],
   "source": [
    "#tuple to series\n",
    "t = pd.Series((10,20,30,50,90),index=[10,20,30,40,50])\n",
    "t"
   ]
  },
  {
   "cell_type": "code",
   "execution_count": 15,
   "id": "b4f2736d-4895-4db3-9bd6-41b992e1c573",
   "metadata": {},
   "outputs": [
    {
     "ename": "NameError",
     "evalue": "name 't' is not defined",
     "output_type": "error",
     "traceback": [
      "\u001b[1;31m---------------------------------------------------------------------------\u001b[0m",
      "\u001b[1;31mNameError\u001b[0m                                 Traceback (most recent call last)",
      "Cell \u001b[1;32mIn[15], line 1\u001b[0m\n\u001b[1;32m----> 1\u001b[0m t[\u001b[38;5;241m1\u001b[39m:\u001b[38;5;241m3\u001b[39m:\u001b[38;5;241m1\u001b[39m]\n",
      "\u001b[1;31mNameError\u001b[0m: name 't' is not defined"
     ]
    }
   ],
   "source": [
    "t[1:3:1]"
   ]
  },
  {
   "cell_type": "code",
   "execution_count": 25,
   "id": "f070c676-f941-42c9-8898-e283992d783d",
   "metadata": {},
   "outputs": [
    {
     "data": {
      "text/plain": [
       "0    20\n",
       "1    30\n",
       "2    38\n",
       "3    90\n",
       "4    80\n",
       "5    18\n",
       "dtype: int32"
      ]
     },
     "execution_count": 25,
     "metadata": {},
     "output_type": "execute_result"
    }
   ],
   "source": [
    "#array to series\n",
    "a = np.array([20,30,38,90,80,18])\n",
    "s = pd.Series(a)\n",
    "s"
   ]
  },
  {
   "cell_type": "code",
   "execution_count": 29,
   "id": "cf66f200-58da-4a6f-9e2f-7cb182e9a7ac",
   "metadata": {},
   "outputs": [
    {
     "data": {
      "text/plain": [
       "0    10\n",
       "1    20\n",
       "2    40\n",
       "3    50\n",
       "4    80\n",
       "dtype: int64"
      ]
     },
     "execution_count": 29,
     "metadata": {},
     "output_type": "execute_result"
    }
   ],
   "source": [
    "#set to series\n",
    "a = pd.Series((10,20,40,50,80))\n",
    "a"
   ]
  },
  {
   "cell_type": "code",
   "execution_count": null,
   "id": "6e1adb25-e8a8-44ae-b48e-b9ab9c76b072",
   "metadata": {},
   "outputs": [],
   "source": []
  },
  {
   "cell_type": "code",
   "execution_count": 25,
   "id": "dba9ad98-ca8d-4b3b-8628-a3eb1cc7bb41",
   "metadata": {},
   "outputs": [
    {
     "data": {
      "text/plain": [
       "a    1\n",
       "b    2\n",
       "c    3\n",
       "d    4\n",
       "dtype: int64"
      ]
     },
     "execution_count": 25,
     "metadata": {},
     "output_type": "execute_result"
    }
   ],
   "source": [
    "#dictionary to series\n",
    "d = pd.Series({'a':1,'b':2,'c':3,'d':4})\n",
    "d"
   ]
  },
  {
   "cell_type": "code",
   "execution_count": 15,
   "id": "c08cb0aa-8b2b-40f5-a4fd-690352788856",
   "metadata": {},
   "outputs": [
    {
     "data": {
      "text/plain": [
       "c    3.0\n",
       "a    1.0\n",
       "f    NaN\n",
       "b    2.0\n",
       "l    NaN\n",
       "dtype: float64"
      ]
     },
     "execution_count": 15,
     "metadata": {},
     "output_type": "execute_result"
    }
   ],
   "source": [
    "d1 = pd.Series({'a':1,'b':2,'c':3,'d':4},index=['c','a','f','b','l'])\n",
    "d1"
   ]
  },
  {
   "cell_type": "code",
   "execution_count": 31,
   "id": "eb484fba-6ea7-45e6-bf21-f8ed096ebeb9",
   "metadata": {},
   "outputs": [
    {
     "data": {
      "text/plain": [
       "nan"
      ]
     },
     "execution_count": 31,
     "metadata": {},
     "output_type": "execute_result"
    }
   ],
   "source": [
    "d1['f']"
   ]
  },
  {
   "cell_type": "code",
   "execution_count": 37,
   "id": "67635674-da68-4a00-b11e-74866c1b29cd",
   "metadata": {},
   "outputs": [
    {
     "data": {
      "text/plain": [
       "1.0"
      ]
     },
     "execution_count": 37,
     "metadata": {},
     "output_type": "execute_result"
    }
   ],
   "source": [
    "d1['a']"
   ]
  },
  {
   "cell_type": "code",
   "execution_count": 39,
   "id": "2f09bd29-df22-4843-ae35-16f7da150dad",
   "metadata": {},
   "outputs": [
    {
     "data": {
      "text/plain": [
       "1"
      ]
     },
     "execution_count": 39,
     "metadata": {},
     "output_type": "execute_result"
    }
   ],
   "source": [
    "d['a']"
   ]
  },
  {
   "cell_type": "code",
   "execution_count": 41,
   "id": "66bfedc0-b78f-49dc-8a30-7f5247261768",
   "metadata": {},
   "outputs": [
    {
     "name": "stderr",
     "output_type": "stream",
     "text": [
      "C:\\Users\\Lenovo\\AppData\\Local\\Temp\\ipykernel_8044\\464593666.py:1: FutureWarning: Series.__getitem__ treating keys as positions is deprecated. In a future version, integer keys will always be treated as labels (consistent with DataFrame behavior). To access a value by position, use `ser.iloc[pos]`\n",
      "  d[2]\n"
     ]
    },
    {
     "data": {
      "text/plain": [
       "3"
      ]
     },
     "execution_count": 41,
     "metadata": {},
     "output_type": "execute_result"
    }
   ],
   "source": [
    "d[2]"
   ]
  },
  {
   "cell_type": "code",
   "execution_count": 43,
   "id": "d78596e6-058d-4ffa-ad00-488c521f21ba",
   "metadata": {},
   "outputs": [
    {
     "name": "stdout",
     "output_type": "stream",
     "text": [
      "a    1\n",
      "b    2\n",
      "c    3\n",
      "d    4\n",
      "dtype: int64\n"
     ]
    }
   ],
   "source": [
    "print(d)"
   ]
  },
  {
   "cell_type": "code",
   "execution_count": 45,
   "id": "7d37283e-fd10-43ef-8451-6355a92227e0",
   "metadata": {},
   "outputs": [
    {
     "data": {
      "text/plain": [
       "b    2\n",
       "d    4\n",
       "dtype: int64"
      ]
     },
     "execution_count": 45,
     "metadata": {},
     "output_type": "execute_result"
    }
   ],
   "source": [
    "d[1:5:2]"
   ]
  },
  {
   "cell_type": "code",
   "execution_count": 47,
   "id": "9e77762a-5e3a-41e4-bba6-cee3db0c4eeb",
   "metadata": {},
   "outputs": [
    {
     "data": {
      "text/plain": [
       "b    2\n",
       "d    4\n",
       "dtype: int64"
      ]
     },
     "execution_count": 47,
     "metadata": {},
     "output_type": "execute_result"
    }
   ],
   "source": [
    "d['b':'d':2]"
   ]
  },
  {
   "cell_type": "code",
   "execution_count": 45,
   "id": "c42dc6b8-31d6-43ff-81ec-d0e3adcccad9",
   "metadata": {},
   "outputs": [
    {
     "data": {
      "text/plain": [
       "{'Name': ['Vishnu', 'Ram', 'Sita', 'Gita', 'Hari', 'Krishna', 'Radhe'],\n",
       " 'Roll': [21, 22, 23, 24, 25, 26, 27],\n",
       " 'Age': [23, 21, 25, 24, 23, 19, 20]}"
      ]
     },
     "execution_count": 45,
     "metadata": {},
     "output_type": "execute_result"
    }
   ],
   "source": [
    "#DataFrame\n",
    "d = {\n",
    "    'Name': ['Vishnu', 'Ram', 'Sita', 'Gita', 'Hari', 'Krishna', 'Radhe'],\n",
    "    'Roll': [21, 22, 23, 24, 25, 26, 27],\n",
    "    'Age':  [23, 21, 25, 24, 23, 19, 20]\n",
    "}\n",
    "d"
   ]
  },
  {
   "cell_type": "code",
   "execution_count": 51,
   "id": "62da5e5f-9fe3-46e8-a7b9-100141def712",
   "metadata": {},
   "outputs": [
    {
     "data": {
      "text/html": [
       "<div>\n",
       "<style scoped>\n",
       "    .dataframe tbody tr th:only-of-type {\n",
       "        vertical-align: middle;\n",
       "    }\n",
       "\n",
       "    .dataframe tbody tr th {\n",
       "        vertical-align: top;\n",
       "    }\n",
       "\n",
       "    .dataframe thead th {\n",
       "        text-align: right;\n",
       "    }\n",
       "</style>\n",
       "<table border=\"1\" class=\"dataframe\">\n",
       "  <thead>\n",
       "    <tr style=\"text-align: right;\">\n",
       "      <th></th>\n",
       "      <th>Name</th>\n",
       "      <th>Roll</th>\n",
       "      <th>Age</th>\n",
       "    </tr>\n",
       "  </thead>\n",
       "  <tbody>\n",
       "    <tr>\n",
       "      <th>0</th>\n",
       "      <td>Vishnu</td>\n",
       "      <td>21</td>\n",
       "      <td>23</td>\n",
       "    </tr>\n",
       "    <tr>\n",
       "      <th>1</th>\n",
       "      <td>Ram</td>\n",
       "      <td>22</td>\n",
       "      <td>21</td>\n",
       "    </tr>\n",
       "    <tr>\n",
       "      <th>2</th>\n",
       "      <td>Sita</td>\n",
       "      <td>23</td>\n",
       "      <td>25</td>\n",
       "    </tr>\n",
       "    <tr>\n",
       "      <th>3</th>\n",
       "      <td>Gita</td>\n",
       "      <td>24</td>\n",
       "      <td>24</td>\n",
       "    </tr>\n",
       "    <tr>\n",
       "      <th>4</th>\n",
       "      <td>Hari</td>\n",
       "      <td>25</td>\n",
       "      <td>23</td>\n",
       "    </tr>\n",
       "    <tr>\n",
       "      <th>5</th>\n",
       "      <td>Krishna</td>\n",
       "      <td>26</td>\n",
       "      <td>19</td>\n",
       "    </tr>\n",
       "    <tr>\n",
       "      <th>6</th>\n",
       "      <td>Radhe</td>\n",
       "      <td>27</td>\n",
       "      <td>20</td>\n",
       "    </tr>\n",
       "  </tbody>\n",
       "</table>\n",
       "</div>"
      ],
      "text/plain": [
       "      Name  Roll  Age\n",
       "0   Vishnu    21   23\n",
       "1      Ram    22   21\n",
       "2     Sita    23   25\n",
       "3     Gita    24   24\n",
       "4     Hari    25   23\n",
       "5  Krishna    26   19\n",
       "6    Radhe    27   20"
      ]
     },
     "execution_count": 51,
     "metadata": {},
     "output_type": "execute_result"
    }
   ],
   "source": [
    "#dictionary to DataFrame\n",
    "df = pd.DataFrame(d)\n",
    "df"
   ]
  },
  {
   "cell_type": "code",
   "execution_count": 59,
   "id": "850295e9-ddf7-46bc-8b3d-9fc5fc984fcf",
   "metadata": {},
   "outputs": [
    {
     "data": {
      "text/html": [
       "<div>\n",
       "<style scoped>\n",
       "    .dataframe tbody tr th:only-of-type {\n",
       "        vertical-align: middle;\n",
       "    }\n",
       "\n",
       "    .dataframe tbody tr th {\n",
       "        vertical-align: top;\n",
       "    }\n",
       "\n",
       "    .dataframe thead th {\n",
       "        text-align: right;\n",
       "    }\n",
       "</style>\n",
       "<table border=\"1\" class=\"dataframe\">\n",
       "  <thead>\n",
       "    <tr style=\"text-align: right;\">\n",
       "      <th></th>\n",
       "      <th>Name</th>\n",
       "      <th>Roll</th>\n",
       "      <th>Age</th>\n",
       "    </tr>\n",
       "  </thead>\n",
       "  <tbody>\n",
       "    <tr>\n",
       "      <th>0</th>\n",
       "      <td>Vishnu</td>\n",
       "      <td>21</td>\n",
       "      <td>23</td>\n",
       "    </tr>\n",
       "    <tr>\n",
       "      <th>1</th>\n",
       "      <td>Ram</td>\n",
       "      <td>22</td>\n",
       "      <td>21</td>\n",
       "    </tr>\n",
       "    <tr>\n",
       "      <th>2</th>\n",
       "      <td>sita</td>\n",
       "      <td>23</td>\n",
       "      <td>25</td>\n",
       "    </tr>\n",
       "    <tr>\n",
       "      <th>3</th>\n",
       "      <td>Gita</td>\n",
       "      <td>24</td>\n",
       "      <td>24</td>\n",
       "    </tr>\n",
       "    <tr>\n",
       "      <th>4</th>\n",
       "      <td>Hari</td>\n",
       "      <td>25</td>\n",
       "      <td>23</td>\n",
       "    </tr>\n",
       "  </tbody>\n",
       "</table>\n",
       "</div>"
      ],
      "text/plain": [
       "     Name  Roll  Age\n",
       "0  Vishnu    21   23\n",
       "1     Ram    22   21\n",
       "2    sita    23   25\n",
       "3    Gita    24   24\n",
       "4    Hari    25   23"
      ]
     },
     "execution_count": 59,
     "metadata": {},
     "output_type": "execute_result"
    }
   ],
   "source": [
    "df.head() #Data from front side   - .head() returns the first 5 rows of the DataFrame by default.\n",
    "\n",
    "📌 Syntax\n",
    "df.head(n)\n",
    "\n",
    "\n",
    "- n is optional. If provided, it returns the first n rows.\n",
    "- If not provided, it returns the first 5 rows.\n",
    "\n"
   ]
  },
  {
   "cell_type": "code",
   "execution_count": 61,
   "id": "bfa8cc07-750c-4541-a84a-119319d55868",
   "metadata": {},
   "outputs": [
    {
     "data": {
      "text/html": [
       "<div>\n",
       "<style scoped>\n",
       "    .dataframe tbody tr th:only-of-type {\n",
       "        vertical-align: middle;\n",
       "    }\n",
       "\n",
       "    .dataframe tbody tr th {\n",
       "        vertical-align: top;\n",
       "    }\n",
       "\n",
       "    .dataframe thead th {\n",
       "        text-align: right;\n",
       "    }\n",
       "</style>\n",
       "<table border=\"1\" class=\"dataframe\">\n",
       "  <thead>\n",
       "    <tr style=\"text-align: right;\">\n",
       "      <th></th>\n",
       "      <th>Name</th>\n",
       "      <th>Roll</th>\n",
       "      <th>Age</th>\n",
       "    </tr>\n",
       "  </thead>\n",
       "  <tbody>\n",
       "    <tr>\n",
       "      <th>0</th>\n",
       "      <td>Vishnu</td>\n",
       "      <td>21</td>\n",
       "      <td>23</td>\n",
       "    </tr>\n",
       "    <tr>\n",
       "      <th>1</th>\n",
       "      <td>Ram</td>\n",
       "      <td>22</td>\n",
       "      <td>21</td>\n",
       "    </tr>\n",
       "  </tbody>\n",
       "</table>\n",
       "</div>"
      ],
      "text/plain": [
       "     Name  Roll  Age\n",
       "0  Vishnu    21   23\n",
       "1     Ram    22   21"
      ]
     },
     "execution_count": 61,
     "metadata": {},
     "output_type": "execute_result"
    }
   ],
   "source": [
    "df.head(2)"
   ]
  },
  {
   "cell_type": "code",
   "execution_count": 63,
   "id": "7e7d2629-ad2d-468b-9fd4-f318b467de37",
   "metadata": {},
   "outputs": [
    {
     "data": {
      "text/html": [
       "<div>\n",
       "<style scoped>\n",
       "    .dataframe tbody tr th:only-of-type {\n",
       "        vertical-align: middle;\n",
       "    }\n",
       "\n",
       "    .dataframe tbody tr th {\n",
       "        vertical-align: top;\n",
       "    }\n",
       "\n",
       "    .dataframe thead th {\n",
       "        text-align: right;\n",
       "    }\n",
       "</style>\n",
       "<table border=\"1\" class=\"dataframe\">\n",
       "  <thead>\n",
       "    <tr style=\"text-align: right;\">\n",
       "      <th></th>\n",
       "      <th>Name</th>\n",
       "      <th>Roll</th>\n",
       "      <th>Age</th>\n",
       "    </tr>\n",
       "  </thead>\n",
       "  <tbody>\n",
       "    <tr>\n",
       "      <th>0</th>\n",
       "      <td>Vishnu</td>\n",
       "      <td>21</td>\n",
       "      <td>23</td>\n",
       "    </tr>\n",
       "    <tr>\n",
       "      <th>1</th>\n",
       "      <td>Ram</td>\n",
       "      <td>22</td>\n",
       "      <td>21</td>\n",
       "    </tr>\n",
       "    <tr>\n",
       "      <th>2</th>\n",
       "      <td>sita</td>\n",
       "      <td>23</td>\n",
       "      <td>25</td>\n",
       "    </tr>\n",
       "    <tr>\n",
       "      <th>3</th>\n",
       "      <td>Gita</td>\n",
       "      <td>24</td>\n",
       "      <td>24</td>\n",
       "    </tr>\n",
       "    <tr>\n",
       "      <th>4</th>\n",
       "      <td>Hari</td>\n",
       "      <td>25</td>\n",
       "      <td>23</td>\n",
       "    </tr>\n",
       "    <tr>\n",
       "      <th>5</th>\n",
       "      <td>Krishna</td>\n",
       "      <td>26</td>\n",
       "      <td>19</td>\n",
       "    </tr>\n",
       "    <tr>\n",
       "      <th>6</th>\n",
       "      <td>Radhe</td>\n",
       "      <td>27</td>\n",
       "      <td>20</td>\n",
       "    </tr>\n",
       "  </tbody>\n",
       "</table>\n",
       "</div>"
      ],
      "text/plain": [
       "      Name  Roll  Age\n",
       "0   Vishnu    21   23\n",
       "1      Ram    22   21\n",
       "2     sita    23   25\n",
       "3     Gita    24   24\n",
       "4     Hari    25   23\n",
       "5  Krishna    26   19\n",
       "6    Radhe    27   20"
      ]
     },
     "execution_count": 63,
     "metadata": {},
     "output_type": "execute_result"
    }
   ],
   "source": [
    "df.head(7)"
   ]
  },
  {
   "cell_type": "code",
   "execution_count": 65,
   "id": "a1e36ffa-906c-4a57-a50d-e84c8bdb4371",
   "metadata": {},
   "outputs": [
    {
     "data": {
      "text/html": [
       "<div>\n",
       "<style scoped>\n",
       "    .dataframe tbody tr th:only-of-type {\n",
       "        vertical-align: middle;\n",
       "    }\n",
       "\n",
       "    .dataframe tbody tr th {\n",
       "        vertical-align: top;\n",
       "    }\n",
       "\n",
       "    .dataframe thead th {\n",
       "        text-align: right;\n",
       "    }\n",
       "</style>\n",
       "<table border=\"1\" class=\"dataframe\">\n",
       "  <thead>\n",
       "    <tr style=\"text-align: right;\">\n",
       "      <th></th>\n",
       "      <th>Name</th>\n",
       "      <th>Roll</th>\n",
       "      <th>Age</th>\n",
       "    </tr>\n",
       "  </thead>\n",
       "  <tbody>\n",
       "    <tr>\n",
       "      <th>0</th>\n",
       "      <td>Vishnu</td>\n",
       "      <td>21</td>\n",
       "      <td>23</td>\n",
       "    </tr>\n",
       "    <tr>\n",
       "      <th>1</th>\n",
       "      <td>Ram</td>\n",
       "      <td>22</td>\n",
       "      <td>21</td>\n",
       "    </tr>\n",
       "    <tr>\n",
       "      <th>2</th>\n",
       "      <td>sita</td>\n",
       "      <td>23</td>\n",
       "      <td>25</td>\n",
       "    </tr>\n",
       "    <tr>\n",
       "      <th>3</th>\n",
       "      <td>Gita</td>\n",
       "      <td>24</td>\n",
       "      <td>24</td>\n",
       "    </tr>\n",
       "    <tr>\n",
       "      <th>4</th>\n",
       "      <td>Hari</td>\n",
       "      <td>25</td>\n",
       "      <td>23</td>\n",
       "    </tr>\n",
       "    <tr>\n",
       "      <th>5</th>\n",
       "      <td>Krishna</td>\n",
       "      <td>26</td>\n",
       "      <td>19</td>\n",
       "    </tr>\n",
       "    <tr>\n",
       "      <th>6</th>\n",
       "      <td>Radhe</td>\n",
       "      <td>27</td>\n",
       "      <td>20</td>\n",
       "    </tr>\n",
       "  </tbody>\n",
       "</table>\n",
       "</div>"
      ],
      "text/plain": [
       "      Name  Roll  Age\n",
       "0   Vishnu    21   23\n",
       "1      Ram    22   21\n",
       "2     sita    23   25\n",
       "3     Gita    24   24\n",
       "4     Hari    25   23\n",
       "5  Krishna    26   19\n",
       "6    Radhe    27   20"
      ]
     },
     "execution_count": 65,
     "metadata": {},
     "output_type": "execute_result"
    }
   ],
   "source": [
    "df.head(10)"
   ]
  },
  {
   "cell_type": "code",
   "execution_count": 67,
   "id": "9d1c3974-6a47-4470-93e7-3c9a8956d69d",
   "metadata": {},
   "outputs": [
    {
     "data": {
      "text/html": [
       "<div>\n",
       "<style scoped>\n",
       "    .dataframe tbody tr th:only-of-type {\n",
       "        vertical-align: middle;\n",
       "    }\n",
       "\n",
       "    .dataframe tbody tr th {\n",
       "        vertical-align: top;\n",
       "    }\n",
       "\n",
       "    .dataframe thead th {\n",
       "        text-align: right;\n",
       "    }\n",
       "</style>\n",
       "<table border=\"1\" class=\"dataframe\">\n",
       "  <thead>\n",
       "    <tr style=\"text-align: right;\">\n",
       "      <th></th>\n",
       "      <th>Name</th>\n",
       "      <th>Roll</th>\n",
       "      <th>Age</th>\n",
       "    </tr>\n",
       "  </thead>\n",
       "  <tbody>\n",
       "    <tr>\n",
       "      <th>4</th>\n",
       "      <td>Hari</td>\n",
       "      <td>25</td>\n",
       "      <td>23</td>\n",
       "    </tr>\n",
       "    <tr>\n",
       "      <th>5</th>\n",
       "      <td>Krishna</td>\n",
       "      <td>26</td>\n",
       "      <td>19</td>\n",
       "    </tr>\n",
       "    <tr>\n",
       "      <th>6</th>\n",
       "      <td>Radhe</td>\n",
       "      <td>27</td>\n",
       "      <td>20</td>\n",
       "    </tr>\n",
       "  </tbody>\n",
       "</table>\n",
       "</div>"
      ],
      "text/plain": [
       "      Name  Roll  Age\n",
       "4     Hari    25   23\n",
       "5  Krishna    26   19\n",
       "6    Radhe    27   20"
      ]
     },
     "execution_count": 67,
     "metadata": {},
     "output_type": "execute_result"
    }
   ],
   "source": [
    "df.tail(3) #Data from downward to upward"
   ]
  },
  {
   "cell_type": "code",
   "execution_count": 71,
   "id": "987b6eff-7208-4d78-844b-5ec677e95762",
   "metadata": {},
   "outputs": [
    {
     "data": {
      "text/html": [
       "<div>\n",
       "<style scoped>\n",
       "    .dataframe tbody tr th:only-of-type {\n",
       "        vertical-align: middle;\n",
       "    }\n",
       "\n",
       "    .dataframe tbody tr th {\n",
       "        vertical-align: top;\n",
       "    }\n",
       "\n",
       "    .dataframe thead th {\n",
       "        text-align: right;\n",
       "    }\n",
       "</style>\n",
       "<table border=\"1\" class=\"dataframe\">\n",
       "  <thead>\n",
       "    <tr style=\"text-align: right;\">\n",
       "      <th></th>\n",
       "      <th>Student_Name</th>\n",
       "      <th>Roll</th>\n",
       "      <th>Age</th>\n",
       "    </tr>\n",
       "  </thead>\n",
       "  <tbody>\n",
       "    <tr>\n",
       "      <th>0</th>\n",
       "      <td>Vishnu</td>\n",
       "      <td>21</td>\n",
       "      <td>23</td>\n",
       "    </tr>\n",
       "    <tr>\n",
       "      <th>1</th>\n",
       "      <td>Ram</td>\n",
       "      <td>22</td>\n",
       "      <td>21</td>\n",
       "    </tr>\n",
       "    <tr>\n",
       "      <th>2</th>\n",
       "      <td>sita</td>\n",
       "      <td>23</td>\n",
       "      <td>25</td>\n",
       "    </tr>\n",
       "    <tr>\n",
       "      <th>3</th>\n",
       "      <td>Gita</td>\n",
       "      <td>24</td>\n",
       "      <td>24</td>\n",
       "    </tr>\n",
       "    <tr>\n",
       "      <th>4</th>\n",
       "      <td>Hari</td>\n",
       "      <td>25</td>\n",
       "      <td>23</td>\n",
       "    </tr>\n",
       "    <tr>\n",
       "      <th>5</th>\n",
       "      <td>Krishna</td>\n",
       "      <td>26</td>\n",
       "      <td>19</td>\n",
       "    </tr>\n",
       "    <tr>\n",
       "      <th>6</th>\n",
       "      <td>Radhe</td>\n",
       "      <td>27</td>\n",
       "      <td>20</td>\n",
       "    </tr>\n",
       "  </tbody>\n",
       "</table>\n",
       "</div>"
      ],
      "text/plain": [
       "  Student_Name  Roll  Age\n",
       "0       Vishnu    21   23\n",
       "1          Ram    22   21\n",
       "2         sita    23   25\n",
       "3         Gita    24   24\n",
       "4         Hari    25   23\n",
       "5      Krishna    26   19\n",
       "6        Radhe    27   20"
      ]
     },
     "execution_count": 71,
     "metadata": {},
     "output_type": "execute_result"
    }
   ],
   "source": [
    "#rename\n",
    "df = df.rename(columns={'Name':'Student_Name'})\n",
    "df"
   ]
  },
  {
   "cell_type": "code",
   "execution_count": 73,
   "id": "acb7210d-4452-47d5-8e33-7a4f16e38a34",
   "metadata": {},
   "outputs": [
    {
     "data": {
      "text/plain": [
       "'Hari'"
      ]
     },
     "execution_count": 73,
     "metadata": {},
     "output_type": "execute_result"
    }
   ],
   "source": [
    "df.Student_Name[4]"
   ]
  },
  {
   "cell_type": "code",
   "execution_count": 75,
   "id": "75081394-b633-450e-afce-471e4158c399",
   "metadata": {},
   "outputs": [
    {
     "data": {
      "text/plain": [
       "24"
      ]
     },
     "execution_count": 75,
     "metadata": {},
     "output_type": "execute_result"
    }
   ],
   "source": [
    "df.Roll[3]\n",
    "\n"
   ]
  },
  {
   "cell_type": "code",
   "execution_count": 77,
   "id": "5c1768e2-fb1c-4794-ad5d-55ce00d12379",
   "metadata": {},
   "outputs": [
    {
     "data": {
      "text/html": [
       "<div>\n",
       "<style scoped>\n",
       "    .dataframe tbody tr th:only-of-type {\n",
       "        vertical-align: middle;\n",
       "    }\n",
       "\n",
       "    .dataframe tbody tr th {\n",
       "        vertical-align: top;\n",
       "    }\n",
       "\n",
       "    .dataframe thead th {\n",
       "        text-align: right;\n",
       "    }\n",
       "</style>\n",
       "<table border=\"1\" class=\"dataframe\">\n",
       "  <thead>\n",
       "    <tr style=\"text-align: right;\">\n",
       "      <th></th>\n",
       "      <th>Student_Name</th>\n",
       "      <th>Age</th>\n",
       "    </tr>\n",
       "    <tr>\n",
       "      <th>Roll</th>\n",
       "      <th></th>\n",
       "      <th></th>\n",
       "    </tr>\n",
       "  </thead>\n",
       "  <tbody>\n",
       "    <tr>\n",
       "      <th>21</th>\n",
       "      <td>Vishnu</td>\n",
       "      <td>23</td>\n",
       "    </tr>\n",
       "    <tr>\n",
       "      <th>22</th>\n",
       "      <td>Ram</td>\n",
       "      <td>21</td>\n",
       "    </tr>\n",
       "    <tr>\n",
       "      <th>23</th>\n",
       "      <td>sita</td>\n",
       "      <td>25</td>\n",
       "    </tr>\n",
       "    <tr>\n",
       "      <th>24</th>\n",
       "      <td>Gita</td>\n",
       "      <td>24</td>\n",
       "    </tr>\n",
       "    <tr>\n",
       "      <th>25</th>\n",
       "      <td>Hari</td>\n",
       "      <td>23</td>\n",
       "    </tr>\n",
       "    <tr>\n",
       "      <th>26</th>\n",
       "      <td>Krishna</td>\n",
       "      <td>19</td>\n",
       "    </tr>\n",
       "    <tr>\n",
       "      <th>27</th>\n",
       "      <td>Radhe</td>\n",
       "      <td>20</td>\n",
       "    </tr>\n",
       "  </tbody>\n",
       "</table>\n",
       "</div>"
      ],
      "text/plain": [
       "     Student_Name  Age\n",
       "Roll                  \n",
       "21         Vishnu   23\n",
       "22            Ram   21\n",
       "23           sita   25\n",
       "24           Gita   24\n",
       "25           Hari   23\n",
       "26        Krishna   19\n",
       "27          Radhe   20"
      ]
     },
     "execution_count": 77,
     "metadata": {},
     "output_type": "execute_result"
    }
   ],
   "source": [
    "#set_index\n",
    "df.set_index('Roll')"
   ]
  },
  {
   "cell_type": "code",
   "execution_count": 79,
   "id": "5b64c986-6ff6-47c4-9651-af0890f3e71a",
   "metadata": {},
   "outputs": [
    {
     "data": {
      "text/html": [
       "<div>\n",
       "<style scoped>\n",
       "    .dataframe tbody tr th:only-of-type {\n",
       "        vertical-align: middle;\n",
       "    }\n",
       "\n",
       "    .dataframe tbody tr th {\n",
       "        vertical-align: top;\n",
       "    }\n",
       "\n",
       "    .dataframe thead th {\n",
       "        text-align: right;\n",
       "    }\n",
       "</style>\n",
       "<table border=\"1\" class=\"dataframe\">\n",
       "  <thead>\n",
       "    <tr style=\"text-align: right;\">\n",
       "      <th></th>\n",
       "      <th>Student_Name</th>\n",
       "      <th>Roll</th>\n",
       "      <th>Age</th>\n",
       "    </tr>\n",
       "  </thead>\n",
       "  <tbody>\n",
       "    <tr>\n",
       "      <th>0</th>\n",
       "      <td>Vishnu</td>\n",
       "      <td>21</td>\n",
       "      <td>23</td>\n",
       "    </tr>\n",
       "    <tr>\n",
       "      <th>1</th>\n",
       "      <td>Ram</td>\n",
       "      <td>22</td>\n",
       "      <td>21</td>\n",
       "    </tr>\n",
       "    <tr>\n",
       "      <th>2</th>\n",
       "      <td>sita</td>\n",
       "      <td>23</td>\n",
       "      <td>25</td>\n",
       "    </tr>\n",
       "    <tr>\n",
       "      <th>3</th>\n",
       "      <td>Gita</td>\n",
       "      <td>24</td>\n",
       "      <td>24</td>\n",
       "    </tr>\n",
       "    <tr>\n",
       "      <th>4</th>\n",
       "      <td>Hari</td>\n",
       "      <td>25</td>\n",
       "      <td>23</td>\n",
       "    </tr>\n",
       "    <tr>\n",
       "      <th>5</th>\n",
       "      <td>Krishna</td>\n",
       "      <td>26</td>\n",
       "      <td>19</td>\n",
       "    </tr>\n",
       "    <tr>\n",
       "      <th>6</th>\n",
       "      <td>Radhe</td>\n",
       "      <td>27</td>\n",
       "      <td>20</td>\n",
       "    </tr>\n",
       "  </tbody>\n",
       "</table>\n",
       "</div>"
      ],
      "text/plain": [
       "  Student_Name  Roll  Age\n",
       "0       Vishnu    21   23\n",
       "1          Ram    22   21\n",
       "2         sita    23   25\n",
       "3         Gita    24   24\n",
       "4         Hari    25   23\n",
       "5      Krishna    26   19\n",
       "6        Radhe    27   20"
      ]
     },
     "execution_count": 79,
     "metadata": {},
     "output_type": "execute_result"
    }
   ],
   "source": [
    "df"
   ]
  },
  {
   "cell_type": "code",
   "execution_count": 81,
   "id": "74b19d58-8897-4ed1-93ba-051688e2c440",
   "metadata": {},
   "outputs": [
    {
     "data": {
      "text/html": [
       "<div>\n",
       "<style scoped>\n",
       "    .dataframe tbody tr th:only-of-type {\n",
       "        vertical-align: middle;\n",
       "    }\n",
       "\n",
       "    .dataframe tbody tr th {\n",
       "        vertical-align: top;\n",
       "    }\n",
       "\n",
       "    .dataframe thead th {\n",
       "        text-align: right;\n",
       "    }\n",
       "</style>\n",
       "<table border=\"1\" class=\"dataframe\">\n",
       "  <thead>\n",
       "    <tr style=\"text-align: right;\">\n",
       "      <th></th>\n",
       "      <th>Student_Name</th>\n",
       "      <th>Age</th>\n",
       "    </tr>\n",
       "    <tr>\n",
       "      <th>Roll</th>\n",
       "      <th></th>\n",
       "      <th></th>\n",
       "    </tr>\n",
       "  </thead>\n",
       "  <tbody>\n",
       "    <tr>\n",
       "      <th>21</th>\n",
       "      <td>Vishnu</td>\n",
       "      <td>23</td>\n",
       "    </tr>\n",
       "    <tr>\n",
       "      <th>22</th>\n",
       "      <td>Ram</td>\n",
       "      <td>21</td>\n",
       "    </tr>\n",
       "    <tr>\n",
       "      <th>23</th>\n",
       "      <td>sita</td>\n",
       "      <td>25</td>\n",
       "    </tr>\n",
       "    <tr>\n",
       "      <th>24</th>\n",
       "      <td>Gita</td>\n",
       "      <td>24</td>\n",
       "    </tr>\n",
       "    <tr>\n",
       "      <th>25</th>\n",
       "      <td>Hari</td>\n",
       "      <td>23</td>\n",
       "    </tr>\n",
       "    <tr>\n",
       "      <th>26</th>\n",
       "      <td>Krishna</td>\n",
       "      <td>19</td>\n",
       "    </tr>\n",
       "    <tr>\n",
       "      <th>27</th>\n",
       "      <td>Radhe</td>\n",
       "      <td>20</td>\n",
       "    </tr>\n",
       "  </tbody>\n",
       "</table>\n",
       "</div>"
      ],
      "text/plain": [
       "     Student_Name  Age\n",
       "Roll                  \n",
       "21         Vishnu   23\n",
       "22            Ram   21\n",
       "23           sita   25\n",
       "24           Gita   24\n",
       "25           Hari   23\n",
       "26        Krishna   19\n",
       "27          Radhe   20"
      ]
     },
     "execution_count": 81,
     "metadata": {},
     "output_type": "execute_result"
    }
   ],
   "source": [
    "#df = df.set_index('Roll')\n",
    "df.set_index('Roll',inplace=True)\n",
    "df"
   ]
  },
  {
   "cell_type": "code",
   "execution_count": 27,
   "id": "bd8f2590-3293-4fd7-a695-3a49bf073e89",
   "metadata": {},
   "outputs": [
    {
     "data": {
      "text/html": [
       "<div>\n",
       "<style scoped>\n",
       "    .dataframe tbody tr th:only-of-type {\n",
       "        vertical-align: middle;\n",
       "    }\n",
       "\n",
       "    .dataframe tbody tr th {\n",
       "        vertical-align: top;\n",
       "    }\n",
       "\n",
       "    .dataframe thead th {\n",
       "        text-align: right;\n",
       "    }\n",
       "</style>\n",
       "<table border=\"1\" class=\"dataframe\">\n",
       "  <thead>\n",
       "    <tr style=\"text-align: right;\">\n",
       "      <th></th>\n",
       "      <th>Days</th>\n",
       "      <th>Places</th>\n",
       "      <th>Visitors</th>\n",
       "    </tr>\n",
       "  </thead>\n",
       "  <tbody>\n",
       "    <tr>\n",
       "      <th>0</th>\n",
       "      <td>1</td>\n",
       "      <td>Puri</td>\n",
       "      <td>6500</td>\n",
       "    </tr>\n",
       "    <tr>\n",
       "      <th>1</th>\n",
       "      <td>2</td>\n",
       "      <td>Konark</td>\n",
       "      <td>4800</td>\n",
       "    </tr>\n",
       "    <tr>\n",
       "      <th>2</th>\n",
       "      <td>3</td>\n",
       "      <td>Delhi</td>\n",
       "      <td>8000</td>\n",
       "    </tr>\n",
       "    <tr>\n",
       "      <th>3</th>\n",
       "      <td>4</td>\n",
       "      <td>NaN</td>\n",
       "      <td>4600</td>\n",
       "    </tr>\n",
       "    <tr>\n",
       "      <th>4</th>\n",
       "      <td>5</td>\n",
       "      <td>Vizag</td>\n",
       "      <td>7300</td>\n",
       "    </tr>\n",
       "    <tr>\n",
       "      <th>5</th>\n",
       "      <td>6</td>\n",
       "      <td>Goa</td>\n",
       "      <td>6000</td>\n",
       "    </tr>\n",
       "  </tbody>\n",
       "</table>\n",
       "</div>"
      ],
      "text/plain": [
       "   Days  Places  Visitors\n",
       "0     1    Puri      6500\n",
       "1     2  Konark      4800\n",
       "2     3   Delhi      8000\n",
       "3     4     NaN      4600\n",
       "4     5   Vizag      7300\n",
       "5     6     Goa      6000"
      ]
     },
     "execution_count": 27,
     "metadata": {},
     "output_type": "execute_result"
    }
   ],
   "source": [
    "d = pd.DataFrame({'Days':[1,2,3,4,5,6],\n",
    "                  'Places':['Puri','Konark','Delhi',np.NaN,'Vizag','Goa'],\n",
    "                  'Visitors':[6500,4800,8000,4600,7300,6000]})\n",
    "d"
   ]
  },
  {
   "cell_type": "code",
   "execution_count": 96,
   "id": "9b228dcf-4934-4ef8-9239-af6d222426c2",
   "metadata": {},
   "outputs": [
    {
     "data": {
      "text/html": [
       "<div>\n",
       "<style scoped>\n",
       "    .dataframe tbody tr th:only-of-type {\n",
       "        vertical-align: middle;\n",
       "    }\n",
       "\n",
       "    .dataframe tbody tr th {\n",
       "        vertical-align: top;\n",
       "    }\n",
       "\n",
       "    .dataframe thead th {\n",
       "        text-align: right;\n",
       "    }\n",
       "</style>\n",
       "<table border=\"1\" class=\"dataframe\">\n",
       "  <thead>\n",
       "    <tr style=\"text-align: right;\">\n",
       "      <th></th>\n",
       "      <th>Days</th>\n",
       "      <th>Places</th>\n",
       "      <th>Visitors</th>\n",
       "    </tr>\n",
       "  </thead>\n",
       "  <tbody>\n",
       "    <tr>\n",
       "      <th>0</th>\n",
       "      <td>False</td>\n",
       "      <td>False</td>\n",
       "      <td>False</td>\n",
       "    </tr>\n",
       "    <tr>\n",
       "      <th>1</th>\n",
       "      <td>False</td>\n",
       "      <td>False</td>\n",
       "      <td>False</td>\n",
       "    </tr>\n",
       "    <tr>\n",
       "      <th>2</th>\n",
       "      <td>False</td>\n",
       "      <td>False</td>\n",
       "      <td>False</td>\n",
       "    </tr>\n",
       "    <tr>\n",
       "      <th>3</th>\n",
       "      <td>False</td>\n",
       "      <td>True</td>\n",
       "      <td>False</td>\n",
       "    </tr>\n",
       "    <tr>\n",
       "      <th>4</th>\n",
       "      <td>False</td>\n",
       "      <td>False</td>\n",
       "      <td>False</td>\n",
       "    </tr>\n",
       "    <tr>\n",
       "      <th>5</th>\n",
       "      <td>False</td>\n",
       "      <td>False</td>\n",
       "      <td>False</td>\n",
       "    </tr>\n",
       "  </tbody>\n",
       "</table>\n",
       "</div>"
      ],
      "text/plain": [
       "    Days  Places  Visitors\n",
       "0  False   False     False\n",
       "1  False   False     False\n",
       "2  False   False     False\n",
       "3  False    True     False\n",
       "4  False   False     False\n",
       "5  False   False     False"
      ]
     },
     "execution_count": 96,
     "metadata": {},
     "output_type": "execute_result"
    }
   ],
   "source": [
    "#check missing values\n",
    "d.isnull()"
   ]
  },
  {
   "cell_type": "code",
   "execution_count": 98,
   "id": "eb82acda-031b-4487-8410-8ed026806469",
   "metadata": {},
   "outputs": [
    {
     "data": {
      "text/plain": [
       "Days        0\n",
       "Places      1\n",
       "Visitors    0\n",
       "dtype: int64"
      ]
     },
     "execution_count": 98,
     "metadata": {},
     "output_type": "execute_result"
    }
   ],
   "source": [
    "d.isnull().sum()"
   ]
  },
  {
   "cell_type": "code",
   "execution_count": 100,
   "id": "26bcb548-2646-47ab-9b4b-1309fcaca6ca",
   "metadata": {},
   "outputs": [
    {
     "name": "stdout",
     "output_type": "stream",
     "text": [
      "<class 'pandas.core.frame.DataFrame'>\n",
      "RangeIndex: 6 entries, 0 to 5\n",
      "Data columns (total 3 columns):\n",
      " #   Column    Non-Null Count  Dtype \n",
      "---  ------    --------------  ----- \n",
      " 0   Days      6 non-null      int64 \n",
      " 1   Places    5 non-null      object\n",
      " 2   Visitors  6 non-null      int64 \n",
      "dtypes: int64(2), object(1)\n",
      "memory usage: 276.0+ bytes\n"
     ]
    }
   ],
   "source": [
    "d.info() #information"
   ]
  },
  {
   "cell_type": "code",
   "execution_count": 110,
   "id": "35366fa0-65dc-4dce-a37d-2e883f8bde4e",
   "metadata": {},
   "outputs": [
    {
     "data": {
      "text/plain": [
       "0      Puri\n",
       "1    Konark\n",
       "2     Delhi\n",
       "3      puri\n",
       "4     Vizag\n",
       "5       Goa\n",
       "Name: Places, dtype: object"
      ]
     },
     "execution_count": 110,
     "metadata": {},
     "output_type": "execute_result"
    }
   ],
   "source": [
    "#fillna\n",
    "d.Places.fillna('puri')"
   ]
  },
  {
   "cell_type": "code",
   "execution_count": 112,
   "id": "a7c035c9-ea4b-42a2-8bc5-795e4558c74e",
   "metadata": {},
   "outputs": [
    {
     "data": {
      "text/html": [
       "<div>\n",
       "<style scoped>\n",
       "    .dataframe tbody tr th:only-of-type {\n",
       "        vertical-align: middle;\n",
       "    }\n",
       "\n",
       "    .dataframe tbody tr th {\n",
       "        vertical-align: top;\n",
       "    }\n",
       "\n",
       "    .dataframe thead th {\n",
       "        text-align: right;\n",
       "    }\n",
       "</style>\n",
       "<table border=\"1\" class=\"dataframe\">\n",
       "  <thead>\n",
       "    <tr style=\"text-align: right;\">\n",
       "      <th></th>\n",
       "      <th>Days</th>\n",
       "      <th>Places</th>\n",
       "      <th>Visitors</th>\n",
       "    </tr>\n",
       "  </thead>\n",
       "  <tbody>\n",
       "    <tr>\n",
       "      <th>0</th>\n",
       "      <td>1</td>\n",
       "      <td>Puri</td>\n",
       "      <td>6500</td>\n",
       "    </tr>\n",
       "    <tr>\n",
       "      <th>1</th>\n",
       "      <td>2</td>\n",
       "      <td>Konark</td>\n",
       "      <td>4800</td>\n",
       "    </tr>\n",
       "    <tr>\n",
       "      <th>2</th>\n",
       "      <td>3</td>\n",
       "      <td>Delhi</td>\n",
       "      <td>8000</td>\n",
       "    </tr>\n",
       "    <tr>\n",
       "      <th>3</th>\n",
       "      <td>4</td>\n",
       "      <td>NaN</td>\n",
       "      <td>4600</td>\n",
       "    </tr>\n",
       "    <tr>\n",
       "      <th>4</th>\n",
       "      <td>5</td>\n",
       "      <td>Vizag</td>\n",
       "      <td>7300</td>\n",
       "    </tr>\n",
       "    <tr>\n",
       "      <th>5</th>\n",
       "      <td>6</td>\n",
       "      <td>Goa</td>\n",
       "      <td>6000</td>\n",
       "    </tr>\n",
       "  </tbody>\n",
       "</table>\n",
       "</div>"
      ],
      "text/plain": [
       "   Days  Places  Visitors\n",
       "0     1    Puri      6500\n",
       "1     2  Konark      4800\n",
       "2     3   Delhi      8000\n",
       "3     4     NaN      4600\n",
       "4     5   Vizag      7300\n",
       "5     6     Goa      6000"
      ]
     },
     "execution_count": 112,
     "metadata": {},
     "output_type": "execute_result"
    }
   ],
   "source": [
    "d"
   ]
  },
  {
   "cell_type": "code",
   "execution_count": 31,
   "id": "1686309d-85ef-4a54-9ca7-c010e9faeaa3",
   "metadata": {},
   "outputs": [
    {
     "data": {
      "text/html": [
       "<div>\n",
       "<style scoped>\n",
       "    .dataframe tbody tr th:only-of-type {\n",
       "        vertical-align: middle;\n",
       "    }\n",
       "\n",
       "    .dataframe tbody tr th {\n",
       "        vertical-align: top;\n",
       "    }\n",
       "\n",
       "    .dataframe thead th {\n",
       "        text-align: right;\n",
       "    }\n",
       "</style>\n",
       "<table border=\"1\" class=\"dataframe\">\n",
       "  <thead>\n",
       "    <tr style=\"text-align: right;\">\n",
       "      <th></th>\n",
       "      <th>Days</th>\n",
       "      <th>Places</th>\n",
       "      <th>Visitors</th>\n",
       "    </tr>\n",
       "  </thead>\n",
       "  <tbody>\n",
       "    <tr>\n",
       "      <th>0</th>\n",
       "      <td>1</td>\n",
       "      <td>Puri</td>\n",
       "      <td>6500</td>\n",
       "    </tr>\n",
       "    <tr>\n",
       "      <th>1</th>\n",
       "      <td>2</td>\n",
       "      <td>Konark</td>\n",
       "      <td>4800</td>\n",
       "    </tr>\n",
       "    <tr>\n",
       "      <th>2</th>\n",
       "      <td>3</td>\n",
       "      <td>Delhi</td>\n",
       "      <td>8000</td>\n",
       "    </tr>\n",
       "    <tr>\n",
       "      <th>3</th>\n",
       "      <td>4</td>\n",
       "      <td>Puri</td>\n",
       "      <td>4600</td>\n",
       "    </tr>\n",
       "    <tr>\n",
       "      <th>4</th>\n",
       "      <td>5</td>\n",
       "      <td>Vizag</td>\n",
       "      <td>7300</td>\n",
       "    </tr>\n",
       "    <tr>\n",
       "      <th>5</th>\n",
       "      <td>6</td>\n",
       "      <td>Goa</td>\n",
       "      <td>6000</td>\n",
       "    </tr>\n",
       "  </tbody>\n",
       "</table>\n",
       "</div>"
      ],
      "text/plain": [
       "   Days  Places  Visitors\n",
       "0     1    Puri      6500\n",
       "1     2  Konark      4800\n",
       "2     3   Delhi      8000\n",
       "3     4    Puri      4600\n",
       "4     5   Vizag      7300\n",
       "5     6     Goa      6000"
      ]
     },
     "execution_count": 31,
     "metadata": {},
     "output_type": "execute_result"
    }
   ],
   "source": [
    "import warnings#for warnings\n",
    "warnings.filterwarnings('ignore')\n",
    "d.Places.fillna('Puri',inplace=True)\n",
    "d"
   ]
  },
  {
   "cell_type": "code",
   "execution_count": 120,
   "id": "21a70458-e5e5-4856-afcc-d2ae6278d311",
   "metadata": {},
   "outputs": [],
   "source": [
    "#d=d.replace(np.NaN,'Puri')"
   ]
  },
  {
   "cell_type": "code",
   "execution_count": 122,
   "id": "9ce71fd2-4639-4f34-9877-bc0d86d809a4",
   "metadata": {},
   "outputs": [
    {
     "data": {
      "text/html": [
       "<div>\n",
       "<style scoped>\n",
       "    .dataframe tbody tr th:only-of-type {\n",
       "        vertical-align: middle;\n",
       "    }\n",
       "\n",
       "    .dataframe tbody tr th {\n",
       "        vertical-align: top;\n",
       "    }\n",
       "\n",
       "    .dataframe thead th {\n",
       "        text-align: right;\n",
       "    }\n",
       "</style>\n",
       "<table border=\"1\" class=\"dataframe\">\n",
       "  <thead>\n",
       "    <tr style=\"text-align: right;\">\n",
       "      <th></th>\n",
       "      <th>Days</th>\n",
       "      <th>Places</th>\n",
       "      <th>Visitors</th>\n",
       "    </tr>\n",
       "  </thead>\n",
       "  <tbody>\n",
       "    <tr>\n",
       "      <th>0</th>\n",
       "      <td>1</td>\n",
       "      <td>Puri</td>\n",
       "      <td>6500</td>\n",
       "    </tr>\n",
       "    <tr>\n",
       "      <th>1</th>\n",
       "      <td>2</td>\n",
       "      <td>Konark</td>\n",
       "      <td>4800</td>\n",
       "    </tr>\n",
       "    <tr>\n",
       "      <th>2</th>\n",
       "      <td>3</td>\n",
       "      <td>Delhi</td>\n",
       "      <td>8000</td>\n",
       "    </tr>\n",
       "    <tr>\n",
       "      <th>3</th>\n",
       "      <td>4</td>\n",
       "      <td>Puri</td>\n",
       "      <td>4600</td>\n",
       "    </tr>\n",
       "    <tr>\n",
       "      <th>4</th>\n",
       "      <td>5</td>\n",
       "      <td>Vizag</td>\n",
       "      <td>7300</td>\n",
       "    </tr>\n",
       "    <tr>\n",
       "      <th>5</th>\n",
       "      <td>6</td>\n",
       "      <td>Goa</td>\n",
       "      <td>6000</td>\n",
       "    </tr>\n",
       "  </tbody>\n",
       "</table>\n",
       "</div>"
      ],
      "text/plain": [
       "   Days  Places  Visitors\n",
       "0     1    Puri      6500\n",
       "1     2  Konark      4800\n",
       "2     3   Delhi      8000\n",
       "3     4    Puri      4600\n",
       "4     5   Vizag      7300\n",
       "5     6     Goa      6000"
      ]
     },
     "execution_count": 122,
     "metadata": {},
     "output_type": "execute_result"
    }
   ],
   "source": [
    "d"
   ]
  },
  {
   "cell_type": "code",
   "execution_count": 124,
   "id": "b9f22c02-db09-4b10-bbbc-ed11fac0859f",
   "metadata": {},
   "outputs": [
    {
     "data": {
      "text/html": [
       "<div>\n",
       "<style scoped>\n",
       "    .dataframe tbody tr th:only-of-type {\n",
       "        vertical-align: middle;\n",
       "    }\n",
       "\n",
       "    .dataframe tbody tr th {\n",
       "        vertical-align: top;\n",
       "    }\n",
       "\n",
       "    .dataframe thead th {\n",
       "        text-align: right;\n",
       "    }\n",
       "</style>\n",
       "<table border=\"1\" class=\"dataframe\">\n",
       "  <thead>\n",
       "    <tr style=\"text-align: right;\">\n",
       "      <th></th>\n",
       "      <th>Days</th>\n",
       "      <th>Places</th>\n",
       "      <th>Visitors</th>\n",
       "    </tr>\n",
       "  </thead>\n",
       "  <tbody>\n",
       "    <tr>\n",
       "      <th>0</th>\n",
       "      <td>1</td>\n",
       "      <td>Puri</td>\n",
       "      <td>6500</td>\n",
       "    </tr>\n",
       "    <tr>\n",
       "      <th>1</th>\n",
       "      <td>2</td>\n",
       "      <td>Konark</td>\n",
       "      <td>4800</td>\n",
       "    </tr>\n",
       "    <tr>\n",
       "      <th>2</th>\n",
       "      <td>3</td>\n",
       "      <td>Delhi</td>\n",
       "      <td>8000</td>\n",
       "    </tr>\n",
       "    <tr>\n",
       "      <th>3</th>\n",
       "      <td>4</td>\n",
       "      <td>Puri</td>\n",
       "      <td>5000</td>\n",
       "    </tr>\n",
       "    <tr>\n",
       "      <th>4</th>\n",
       "      <td>5</td>\n",
       "      <td>Vizag</td>\n",
       "      <td>7300</td>\n",
       "    </tr>\n",
       "    <tr>\n",
       "      <th>5</th>\n",
       "      <td>6</td>\n",
       "      <td>Goa</td>\n",
       "      <td>6000</td>\n",
       "    </tr>\n",
       "  </tbody>\n",
       "</table>\n",
       "</div>"
      ],
      "text/plain": [
       "   Days  Places  Visitors\n",
       "0     1    Puri      6500\n",
       "1     2  Konark      4800\n",
       "2     3   Delhi      8000\n",
       "3     4    Puri      5000\n",
       "4     5   Vizag      7300\n",
       "5     6     Goa      6000"
      ]
     },
     "execution_count": 124,
     "metadata": {},
     "output_type": "execute_result"
    }
   ],
   "source": [
    "d.Visitors.replace(4600,5000,inplace=True)\n",
    "d"
   ]
  },
  {
   "cell_type": "code",
   "execution_count": 126,
   "id": "39dee132-583a-45a5-bccd-eb944cebe42e",
   "metadata": {},
   "outputs": [
    {
     "data": {
      "text/plain": [
       "array(['Puri', 'Konark', 'Delhi', 'Vizag', 'Goa'], dtype=object)"
      ]
     },
     "execution_count": 126,
     "metadata": {},
     "output_type": "execute_result"
    }
   ],
   "source": [
    "d.Places.unique() #unique value"
   ]
  },
  {
   "cell_type": "code",
   "execution_count": 128,
   "id": "cb1ab35f-eb98-42cd-8a56-6d7ba73e4f0a",
   "metadata": {},
   "outputs": [
    {
     "data": {
      "text/plain": [
       "6266.666666666667"
      ]
     },
     "execution_count": 128,
     "metadata": {},
     "output_type": "execute_result"
    }
   ],
   "source": [
    "d.Visitors.mean()"
   ]
  },
  {
   "cell_type": "code",
   "execution_count": 130,
   "id": "82831c58-d8ad-4282-9ef5-cd38126c7e86",
   "metadata": {},
   "outputs": [
    {
     "data": {
      "text/plain": [
       "Days            6\n",
       "Places      Vizag\n",
       "Visitors     8000\n",
       "dtype: object"
      ]
     },
     "execution_count": 130,
     "metadata": {},
     "output_type": "execute_result"
    }
   ],
   "source": [
    "d.max() #maximum value"
   ]
  },
  {
   "cell_type": "code",
   "execution_count": 132,
   "id": "1943c0b0-1339-4b52-a0ae-ec90769f118c",
   "metadata": {},
   "outputs": [
    {
     "data": {
      "text/html": [
       "<div>\n",
       "<style scoped>\n",
       "    .dataframe tbody tr th:only-of-type {\n",
       "        vertical-align: middle;\n",
       "    }\n",
       "\n",
       "    .dataframe tbody tr th {\n",
       "        vertical-align: top;\n",
       "    }\n",
       "\n",
       "    .dataframe thead th {\n",
       "        text-align: right;\n",
       "    }\n",
       "</style>\n",
       "<table border=\"1\" class=\"dataframe\">\n",
       "  <thead>\n",
       "    <tr style=\"text-align: right;\">\n",
       "      <th></th>\n",
       "      <th>Days</th>\n",
       "      <th>Visitors</th>\n",
       "    </tr>\n",
       "  </thead>\n",
       "  <tbody>\n",
       "    <tr>\n",
       "      <th>count</th>\n",
       "      <td>6.000000</td>\n",
       "      <td>6.000000</td>\n",
       "    </tr>\n",
       "    <tr>\n",
       "      <th>mean</th>\n",
       "      <td>3.500000</td>\n",
       "      <td>6266.666667</td>\n",
       "    </tr>\n",
       "    <tr>\n",
       "      <th>std</th>\n",
       "      <td>1.870829</td>\n",
       "      <td>1261.216344</td>\n",
       "    </tr>\n",
       "    <tr>\n",
       "      <th>min</th>\n",
       "      <td>1.000000</td>\n",
       "      <td>4800.000000</td>\n",
       "    </tr>\n",
       "    <tr>\n",
       "      <th>25%</th>\n",
       "      <td>2.250000</td>\n",
       "      <td>5250.000000</td>\n",
       "    </tr>\n",
       "    <tr>\n",
       "      <th>50%</th>\n",
       "      <td>3.500000</td>\n",
       "      <td>6250.000000</td>\n",
       "    </tr>\n",
       "    <tr>\n",
       "      <th>75%</th>\n",
       "      <td>4.750000</td>\n",
       "      <td>7100.000000</td>\n",
       "    </tr>\n",
       "    <tr>\n",
       "      <th>max</th>\n",
       "      <td>6.000000</td>\n",
       "      <td>8000.000000</td>\n",
       "    </tr>\n",
       "  </tbody>\n",
       "</table>\n",
       "</div>"
      ],
      "text/plain": [
       "           Days     Visitors\n",
       "count  6.000000     6.000000\n",
       "mean   3.500000  6266.666667\n",
       "std    1.870829  1261.216344\n",
       "min    1.000000  4800.000000\n",
       "25%    2.250000  5250.000000\n",
       "50%    3.500000  6250.000000\n",
       "75%    4.750000  7100.000000\n",
       "max    6.000000  8000.000000"
      ]
     },
     "execution_count": 132,
     "metadata": {},
     "output_type": "execute_result"
    }
   ],
   "source": [
    "d.describe() #Total data except string"
   ]
  },
  {
   "cell_type": "code",
   "execution_count": 134,
   "id": "c42a352a-7b4b-41b3-a3fa-21cadf6e2753",
   "metadata": {},
   "outputs": [
    {
     "data": {
      "text/html": [
       "<div>\n",
       "<style scoped>\n",
       "    .dataframe tbody tr th:only-of-type {\n",
       "        vertical-align: middle;\n",
       "    }\n",
       "\n",
       "    .dataframe tbody tr th {\n",
       "        vertical-align: top;\n",
       "    }\n",
       "\n",
       "    .dataframe thead th {\n",
       "        text-align: right;\n",
       "    }\n",
       "</style>\n",
       "<table border=\"1\" class=\"dataframe\">\n",
       "  <thead>\n",
       "    <tr style=\"text-align: right;\">\n",
       "      <th></th>\n",
       "      <th>Days</th>\n",
       "      <th>Places</th>\n",
       "      <th>Visitors</th>\n",
       "    </tr>\n",
       "  </thead>\n",
       "  <tbody>\n",
       "    <tr>\n",
       "      <th>count</th>\n",
       "      <td>6.000000</td>\n",
       "      <td>6</td>\n",
       "      <td>6.000000</td>\n",
       "    </tr>\n",
       "    <tr>\n",
       "      <th>unique</th>\n",
       "      <td>NaN</td>\n",
       "      <td>5</td>\n",
       "      <td>NaN</td>\n",
       "    </tr>\n",
       "    <tr>\n",
       "      <th>top</th>\n",
       "      <td>NaN</td>\n",
       "      <td>Puri</td>\n",
       "      <td>NaN</td>\n",
       "    </tr>\n",
       "    <tr>\n",
       "      <th>freq</th>\n",
       "      <td>NaN</td>\n",
       "      <td>2</td>\n",
       "      <td>NaN</td>\n",
       "    </tr>\n",
       "    <tr>\n",
       "      <th>mean</th>\n",
       "      <td>3.500000</td>\n",
       "      <td>NaN</td>\n",
       "      <td>6266.666667</td>\n",
       "    </tr>\n",
       "    <tr>\n",
       "      <th>std</th>\n",
       "      <td>1.870829</td>\n",
       "      <td>NaN</td>\n",
       "      <td>1261.216344</td>\n",
       "    </tr>\n",
       "    <tr>\n",
       "      <th>min</th>\n",
       "      <td>1.000000</td>\n",
       "      <td>NaN</td>\n",
       "      <td>4800.000000</td>\n",
       "    </tr>\n",
       "    <tr>\n",
       "      <th>25%</th>\n",
       "      <td>2.250000</td>\n",
       "      <td>NaN</td>\n",
       "      <td>5250.000000</td>\n",
       "    </tr>\n",
       "    <tr>\n",
       "      <th>50%</th>\n",
       "      <td>3.500000</td>\n",
       "      <td>NaN</td>\n",
       "      <td>6250.000000</td>\n",
       "    </tr>\n",
       "    <tr>\n",
       "      <th>75%</th>\n",
       "      <td>4.750000</td>\n",
       "      <td>NaN</td>\n",
       "      <td>7100.000000</td>\n",
       "    </tr>\n",
       "    <tr>\n",
       "      <th>max</th>\n",
       "      <td>6.000000</td>\n",
       "      <td>NaN</td>\n",
       "      <td>8000.000000</td>\n",
       "    </tr>\n",
       "  </tbody>\n",
       "</table>\n",
       "</div>"
      ],
      "text/plain": [
       "            Days Places     Visitors\n",
       "count   6.000000      6     6.000000\n",
       "unique       NaN      5          NaN\n",
       "top          NaN   Puri          NaN\n",
       "freq         NaN      2          NaN\n",
       "mean    3.500000    NaN  6266.666667\n",
       "std     1.870829    NaN  1261.216344\n",
       "min     1.000000    NaN  4800.000000\n",
       "25%     2.250000    NaN  5250.000000\n",
       "50%     3.500000    NaN  6250.000000\n",
       "75%     4.750000    NaN  7100.000000\n",
       "max     6.000000    NaN  8000.000000"
      ]
     },
     "execution_count": 134,
     "metadata": {},
     "output_type": "execute_result"
    }
   ],
   "source": [
    "d.describe(include='all') #it includes string"
   ]
  },
  {
   "cell_type": "code",
   "execution_count": 136,
   "id": "238f4e1f-d9d4-4d40-955c-200e23c663be",
   "metadata": {},
   "outputs": [
    {
     "data": {
      "text/html": [
       "<div>\n",
       "<style scoped>\n",
       "    .dataframe tbody tr th:only-of-type {\n",
       "        vertical-align: middle;\n",
       "    }\n",
       "\n",
       "    .dataframe tbody tr th {\n",
       "        vertical-align: top;\n",
       "    }\n",
       "\n",
       "    .dataframe thead th {\n",
       "        text-align: right;\n",
       "    }\n",
       "</style>\n",
       "<table border=\"1\" class=\"dataframe\">\n",
       "  <thead>\n",
       "    <tr style=\"text-align: right;\">\n",
       "      <th></th>\n",
       "      <th>Places</th>\n",
       "    </tr>\n",
       "  </thead>\n",
       "  <tbody>\n",
       "    <tr>\n",
       "      <th>count</th>\n",
       "      <td>6</td>\n",
       "    </tr>\n",
       "    <tr>\n",
       "      <th>unique</th>\n",
       "      <td>5</td>\n",
       "    </tr>\n",
       "    <tr>\n",
       "      <th>top</th>\n",
       "      <td>Puri</td>\n",
       "    </tr>\n",
       "    <tr>\n",
       "      <th>freq</th>\n",
       "      <td>2</td>\n",
       "    </tr>\n",
       "  </tbody>\n",
       "</table>\n",
       "</div>"
      ],
      "text/plain": [
       "       Places\n",
       "count       6\n",
       "unique      5\n",
       "top      Puri\n",
       "freq        2"
      ]
     },
     "execution_count": 136,
     "metadata": {},
     "output_type": "execute_result"
    }
   ],
   "source": [
    "d.describe(include='O')"
   ]
  },
  {
   "cell_type": "raw",
   "id": "3121e67c-8f33-4165-85d0-5ffc89fe9470",
   "metadata": {},
   "source": [
    "Iris Dataset"
   ]
  },
  {
   "cell_type": "markdown",
   "id": "3cffd693-9822-438b-88b4-8e233195876f",
   "metadata": {},
   "source": [
    "iris = pd.read_csv(r\"D:\\3rd year\\iris\\iris.data\")\n",
    "iris"
   ]
  },
  {
   "cell_type": "code",
   "execution_count": 114,
   "id": "289946b4-fbbc-4942-bae4-ea535e873874",
   "metadata": {},
   "outputs": [
    {
     "data": {
      "text/html": [
       "<div>\n",
       "<style scoped>\n",
       "    .dataframe tbody tr th:only-of-type {\n",
       "        vertical-align: middle;\n",
       "    }\n",
       "\n",
       "    .dataframe tbody tr th {\n",
       "        vertical-align: top;\n",
       "    }\n",
       "\n",
       "    .dataframe thead th {\n",
       "        text-align: right;\n",
       "    }\n",
       "</style>\n",
       "<table border=\"1\" class=\"dataframe\">\n",
       "  <thead>\n",
       "    <tr style=\"text-align: right;\">\n",
       "      <th></th>\n",
       "      <th>0</th>\n",
       "      <th>1</th>\n",
       "      <th>2</th>\n",
       "      <th>3</th>\n",
       "      <th>4</th>\n",
       "    </tr>\n",
       "  </thead>\n",
       "  <tbody>\n",
       "    <tr>\n",
       "      <th>0</th>\n",
       "      <td>5.1</td>\n",
       "      <td>3.5</td>\n",
       "      <td>1.4</td>\n",
       "      <td>0.2</td>\n",
       "      <td>Iris-setosa</td>\n",
       "    </tr>\n",
       "    <tr>\n",
       "      <th>1</th>\n",
       "      <td>4.9</td>\n",
       "      <td>3.0</td>\n",
       "      <td>1.4</td>\n",
       "      <td>0.2</td>\n",
       "      <td>Iris-setosa</td>\n",
       "    </tr>\n",
       "    <tr>\n",
       "      <th>2</th>\n",
       "      <td>4.7</td>\n",
       "      <td>3.2</td>\n",
       "      <td>1.3</td>\n",
       "      <td>0.2</td>\n",
       "      <td>Iris-setosa</td>\n",
       "    </tr>\n",
       "    <tr>\n",
       "      <th>3</th>\n",
       "      <td>4.6</td>\n",
       "      <td>3.1</td>\n",
       "      <td>1.5</td>\n",
       "      <td>0.2</td>\n",
       "      <td>Iris-setosa</td>\n",
       "    </tr>\n",
       "    <tr>\n",
       "      <th>4</th>\n",
       "      <td>5.0</td>\n",
       "      <td>3.6</td>\n",
       "      <td>1.4</td>\n",
       "      <td>0.2</td>\n",
       "      <td>Iris-setosa</td>\n",
       "    </tr>\n",
       "    <tr>\n",
       "      <th>...</th>\n",
       "      <td>...</td>\n",
       "      <td>...</td>\n",
       "      <td>...</td>\n",
       "      <td>...</td>\n",
       "      <td>...</td>\n",
       "    </tr>\n",
       "    <tr>\n",
       "      <th>145</th>\n",
       "      <td>6.7</td>\n",
       "      <td>3.0</td>\n",
       "      <td>5.2</td>\n",
       "      <td>2.3</td>\n",
       "      <td>Iris-virginica</td>\n",
       "    </tr>\n",
       "    <tr>\n",
       "      <th>146</th>\n",
       "      <td>6.3</td>\n",
       "      <td>2.5</td>\n",
       "      <td>5.0</td>\n",
       "      <td>1.9</td>\n",
       "      <td>Iris-virginica</td>\n",
       "    </tr>\n",
       "    <tr>\n",
       "      <th>147</th>\n",
       "      <td>6.5</td>\n",
       "      <td>3.0</td>\n",
       "      <td>5.2</td>\n",
       "      <td>2.0</td>\n",
       "      <td>Iris-virginica</td>\n",
       "    </tr>\n",
       "    <tr>\n",
       "      <th>148</th>\n",
       "      <td>6.2</td>\n",
       "      <td>3.4</td>\n",
       "      <td>5.4</td>\n",
       "      <td>2.3</td>\n",
       "      <td>Iris-virginica</td>\n",
       "    </tr>\n",
       "    <tr>\n",
       "      <th>149</th>\n",
       "      <td>5.9</td>\n",
       "      <td>3.0</td>\n",
       "      <td>5.1</td>\n",
       "      <td>1.8</td>\n",
       "      <td>Iris-virginica</td>\n",
       "    </tr>\n",
       "  </tbody>\n",
       "</table>\n",
       "<p>150 rows × 5 columns</p>\n",
       "</div>"
      ],
      "text/plain": [
       "       0    1    2    3               4\n",
       "0    5.1  3.5  1.4  0.2     Iris-setosa\n",
       "1    4.9  3.0  1.4  0.2     Iris-setosa\n",
       "2    4.7  3.2  1.3  0.2     Iris-setosa\n",
       "3    4.6  3.1  1.5  0.2     Iris-setosa\n",
       "4    5.0  3.6  1.4  0.2     Iris-setosa\n",
       "..   ...  ...  ...  ...             ...\n",
       "145  6.7  3.0  5.2  2.3  Iris-virginica\n",
       "146  6.3  2.5  5.0  1.9  Iris-virginica\n",
       "147  6.5  3.0  5.2  2.0  Iris-virginica\n",
       "148  6.2  3.4  5.4  2.3  Iris-virginica\n",
       "149  5.9  3.0  5.1  1.8  Iris-virginica\n",
       "\n",
       "[150 rows x 5 columns]"
      ]
     },
     "execution_count": 114,
     "metadata": {},
     "output_type": "execute_result"
    }
   ],
   "source": [
    "iris = pd.read_csv(r\"C:\\Users\\Lenovo\\Desktop\\july aiml\\iris\\iris.data\",header=None) #to bring the written data present in heading down\n",
    "iris"
   ]
  },
  {
   "cell_type": "code",
   "execution_count": 116,
   "id": "ee7279fe-30b6-476e-b208-40870ae9e2fa",
   "metadata": {},
   "outputs": [
    {
     "data": {
      "text/html": [
       "<div>\n",
       "<style scoped>\n",
       "    .dataframe tbody tr th:only-of-type {\n",
       "        vertical-align: middle;\n",
       "    }\n",
       "\n",
       "    .dataframe tbody tr th {\n",
       "        vertical-align: top;\n",
       "    }\n",
       "\n",
       "    .dataframe thead th {\n",
       "        text-align: right;\n",
       "    }\n",
       "</style>\n",
       "<table border=\"1\" class=\"dataframe\">\n",
       "  <thead>\n",
       "    <tr style=\"text-align: right;\">\n",
       "      <th></th>\n",
       "      <th>SL</th>\n",
       "      <th>SW</th>\n",
       "      <th>PL</th>\n",
       "      <th>PW</th>\n",
       "      <th>Flower Type</th>\n",
       "    </tr>\n",
       "  </thead>\n",
       "  <tbody>\n",
       "    <tr>\n",
       "      <th>0</th>\n",
       "      <td>5.1</td>\n",
       "      <td>3.5</td>\n",
       "      <td>1.4</td>\n",
       "      <td>0.2</td>\n",
       "      <td>Iris-setosa</td>\n",
       "    </tr>\n",
       "    <tr>\n",
       "      <th>1</th>\n",
       "      <td>4.9</td>\n",
       "      <td>3.0</td>\n",
       "      <td>1.4</td>\n",
       "      <td>0.2</td>\n",
       "      <td>Iris-setosa</td>\n",
       "    </tr>\n",
       "    <tr>\n",
       "      <th>2</th>\n",
       "      <td>4.7</td>\n",
       "      <td>3.2</td>\n",
       "      <td>1.3</td>\n",
       "      <td>0.2</td>\n",
       "      <td>Iris-setosa</td>\n",
       "    </tr>\n",
       "    <tr>\n",
       "      <th>3</th>\n",
       "      <td>4.6</td>\n",
       "      <td>3.1</td>\n",
       "      <td>1.5</td>\n",
       "      <td>0.2</td>\n",
       "      <td>Iris-setosa</td>\n",
       "    </tr>\n",
       "    <tr>\n",
       "      <th>4</th>\n",
       "      <td>5.0</td>\n",
       "      <td>3.6</td>\n",
       "      <td>1.4</td>\n",
       "      <td>0.2</td>\n",
       "      <td>Iris-setosa</td>\n",
       "    </tr>\n",
       "    <tr>\n",
       "      <th>...</th>\n",
       "      <td>...</td>\n",
       "      <td>...</td>\n",
       "      <td>...</td>\n",
       "      <td>...</td>\n",
       "      <td>...</td>\n",
       "    </tr>\n",
       "    <tr>\n",
       "      <th>145</th>\n",
       "      <td>6.7</td>\n",
       "      <td>3.0</td>\n",
       "      <td>5.2</td>\n",
       "      <td>2.3</td>\n",
       "      <td>Iris-virginica</td>\n",
       "    </tr>\n",
       "    <tr>\n",
       "      <th>146</th>\n",
       "      <td>6.3</td>\n",
       "      <td>2.5</td>\n",
       "      <td>5.0</td>\n",
       "      <td>1.9</td>\n",
       "      <td>Iris-virginica</td>\n",
       "    </tr>\n",
       "    <tr>\n",
       "      <th>147</th>\n",
       "      <td>6.5</td>\n",
       "      <td>3.0</td>\n",
       "      <td>5.2</td>\n",
       "      <td>2.0</td>\n",
       "      <td>Iris-virginica</td>\n",
       "    </tr>\n",
       "    <tr>\n",
       "      <th>148</th>\n",
       "      <td>6.2</td>\n",
       "      <td>3.4</td>\n",
       "      <td>5.4</td>\n",
       "      <td>2.3</td>\n",
       "      <td>Iris-virginica</td>\n",
       "    </tr>\n",
       "    <tr>\n",
       "      <th>149</th>\n",
       "      <td>5.9</td>\n",
       "      <td>3.0</td>\n",
       "      <td>5.1</td>\n",
       "      <td>1.8</td>\n",
       "      <td>Iris-virginica</td>\n",
       "    </tr>\n",
       "  </tbody>\n",
       "</table>\n",
       "<p>150 rows × 5 columns</p>\n",
       "</div>"
      ],
      "text/plain": [
       "      SL   SW   PL   PW     Flower Type\n",
       "0    5.1  3.5  1.4  0.2     Iris-setosa\n",
       "1    4.9  3.0  1.4  0.2     Iris-setosa\n",
       "2    4.7  3.2  1.3  0.2     Iris-setosa\n",
       "3    4.6  3.1  1.5  0.2     Iris-setosa\n",
       "4    5.0  3.6  1.4  0.2     Iris-setosa\n",
       "..   ...  ...  ...  ...             ...\n",
       "145  6.7  3.0  5.2  2.3  Iris-virginica\n",
       "146  6.3  2.5  5.0  1.9  Iris-virginica\n",
       "147  6.5  3.0  5.2  2.0  Iris-virginica\n",
       "148  6.2  3.4  5.4  2.3  Iris-virginica\n",
       "149  5.9  3.0  5.1  1.8  Iris-virginica\n",
       "\n",
       "[150 rows x 5 columns]"
      ]
     },
     "execution_count": 116,
     "metadata": {},
     "output_type": "execute_result"
    }
   ],
   "source": [
    "iris.columns=['SL','SW','PL','PW','Flower Type']\n",
    "iris"
   ]
  },
  {
   "cell_type": "code",
   "execution_count": 118,
   "id": "95732e6e-ef33-4b40-84a7-7ff9e3844a51",
   "metadata": {},
   "outputs": [
    {
     "name": "stdout",
     "output_type": "stream",
     "text": [
      "<class 'pandas.core.frame.DataFrame'>\n",
      "RangeIndex: 150 entries, 0 to 149\n",
      "Data columns (total 5 columns):\n",
      " #   Column       Non-Null Count  Dtype  \n",
      "---  ------       --------------  -----  \n",
      " 0   SL           150 non-null    float64\n",
      " 1   SW           150 non-null    float64\n",
      " 2   PL           150 non-null    float64\n",
      " 3   PW           150 non-null    float64\n",
      " 4   Flower Type  150 non-null    object \n",
      "dtypes: float64(4), object(1)\n",
      "memory usage: 6.0+ KB\n"
     ]
    }
   ],
   "source": [
    "iris.info()"
   ]
  },
  {
   "cell_type": "code",
   "execution_count": 120,
   "id": "93c93abd-bcba-483e-9ab4-64f7c7ed0393",
   "metadata": {},
   "outputs": [
    {
     "data": {
      "text/plain": [
       "array([5.1, 4.9, 4.7, 4.6, 5. , 5.4, 4.4, 4.8, 4.3, 5.8, 5.7, 5.2, 5.5,\n",
       "       4.5, 5.3, 7. , 6.4, 6.9, 6.5, 6.3, 6.6, 5.9, 6. , 6.1, 5.6, 6.7,\n",
       "       6.2, 6.8, 7.1, 7.6, 7.3, 7.2, 7.7, 7.4, 7.9])"
      ]
     },
     "execution_count": 120,
     "metadata": {},
     "output_type": "execute_result"
    }
   ],
   "source": [
    "iris.SL.unique()"
   ]
  },
  {
   "cell_type": "code",
   "execution_count": 39,
   "id": "40bec9d4-efa6-4b11-9baf-91490b4e4407",
   "metadata": {},
   "outputs": [
    {
     "data": {
      "text/plain": [
       "Index(['SL', 'SW', 'PL', 'PW', 'Flower Type'], dtype='object')"
      ]
     },
     "execution_count": 39,
     "metadata": {},
     "output_type": "execute_result"
    }
   ],
   "source": [
    "iris.columns"
   ]
  },
  {
   "cell_type": "code",
   "execution_count": 122,
   "id": "a4b1026f-4f4a-4e6a-8ad0-d5aff3d96837",
   "metadata": {},
   "outputs": [
    {
     "name": "stdout",
     "output_type": "stream",
     "text": [
      "SL : \n",
      " [5.1 4.9 4.7 4.6 5.  5.4 4.4 4.8 4.3 5.8 5.7 5.2 5.5 4.5 5.3 7.  6.4 6.9\n",
      " 6.5 6.3 6.6 5.9 6.  6.1 5.6 6.7 6.2 6.8 7.1 7.6 7.3 7.2 7.7 7.4 7.9] \n",
      "\n",
      "SW : \n",
      " [3.5 3.  3.2 3.1 3.6 3.9 3.4 2.9 3.7 4.  4.4 3.8 3.3 4.1 4.2 2.3 2.8 2.4\n",
      " 2.7 2.  2.2 2.5 2.6] \n",
      "\n",
      "PL : \n",
      " [1.4 1.3 1.5 1.7 1.6 1.1 1.2 1.  1.9 4.7 4.5 4.9 4.  4.6 3.3 3.9 3.5 4.2\n",
      " 3.6 4.4 4.1 4.8 4.3 5.  3.8 3.7 5.1 3.  6.  5.9 5.6 5.8 6.6 6.3 6.1 5.3\n",
      " 5.5 6.7 6.9 5.7 6.4 5.4 5.2] \n",
      "\n",
      "PW : \n",
      " [0.2 0.4 0.3 0.1 0.5 0.6 1.4 1.5 1.3 1.6 1.  1.1 1.8 1.2 1.7 2.5 1.9 2.1\n",
      " 2.2 2.  2.4 2.3] \n",
      "\n",
      "Flower Type : \n",
      " ['Iris-setosa' 'Iris-versicolor' 'Iris-virginica'] \n",
      "\n"
     ]
    }
   ],
   "source": [
    "for i in iris.columns:\n",
    "    print(i,':','\\n',iris[i].unique(),'\\n')"
   ]
  },
  {
   "cell_type": "code",
   "execution_count": 43,
   "id": "ea9a96a3-930d-4f38-902c-d3848bfe18ce",
   "metadata": {},
   "outputs": [
    {
     "data": {
      "text/html": [
       "<div>\n",
       "<style scoped>\n",
       "    .dataframe tbody tr th:only-of-type {\n",
       "        vertical-align: middle;\n",
       "    }\n",
       "\n",
       "    .dataframe tbody tr th {\n",
       "        vertical-align: top;\n",
       "    }\n",
       "\n",
       "    .dataframe thead th {\n",
       "        text-align: right;\n",
       "    }\n",
       "</style>\n",
       "<table border=\"1\" class=\"dataframe\">\n",
       "  <thead>\n",
       "    <tr style=\"text-align: right;\">\n",
       "      <th></th>\n",
       "      <th>SL</th>\n",
       "      <th>SW</th>\n",
       "      <th>PL</th>\n",
       "      <th>PW</th>\n",
       "      <th>Flower Type</th>\n",
       "    </tr>\n",
       "  </thead>\n",
       "  <tbody>\n",
       "    <tr>\n",
       "      <th>count</th>\n",
       "      <td>150.000000</td>\n",
       "      <td>150.000000</td>\n",
       "      <td>150.000000</td>\n",
       "      <td>150.000000</td>\n",
       "      <td>150</td>\n",
       "    </tr>\n",
       "    <tr>\n",
       "      <th>unique</th>\n",
       "      <td>NaN</td>\n",
       "      <td>NaN</td>\n",
       "      <td>NaN</td>\n",
       "      <td>NaN</td>\n",
       "      <td>3</td>\n",
       "    </tr>\n",
       "    <tr>\n",
       "      <th>top</th>\n",
       "      <td>NaN</td>\n",
       "      <td>NaN</td>\n",
       "      <td>NaN</td>\n",
       "      <td>NaN</td>\n",
       "      <td>Iris-setosa</td>\n",
       "    </tr>\n",
       "    <tr>\n",
       "      <th>freq</th>\n",
       "      <td>NaN</td>\n",
       "      <td>NaN</td>\n",
       "      <td>NaN</td>\n",
       "      <td>NaN</td>\n",
       "      <td>50</td>\n",
       "    </tr>\n",
       "    <tr>\n",
       "      <th>mean</th>\n",
       "      <td>5.843333</td>\n",
       "      <td>3.054000</td>\n",
       "      <td>3.758667</td>\n",
       "      <td>1.198667</td>\n",
       "      <td>NaN</td>\n",
       "    </tr>\n",
       "    <tr>\n",
       "      <th>std</th>\n",
       "      <td>0.828066</td>\n",
       "      <td>0.433594</td>\n",
       "      <td>1.764420</td>\n",
       "      <td>0.763161</td>\n",
       "      <td>NaN</td>\n",
       "    </tr>\n",
       "    <tr>\n",
       "      <th>min</th>\n",
       "      <td>4.300000</td>\n",
       "      <td>2.000000</td>\n",
       "      <td>1.000000</td>\n",
       "      <td>0.100000</td>\n",
       "      <td>NaN</td>\n",
       "    </tr>\n",
       "    <tr>\n",
       "      <th>25%</th>\n",
       "      <td>5.100000</td>\n",
       "      <td>2.800000</td>\n",
       "      <td>1.600000</td>\n",
       "      <td>0.300000</td>\n",
       "      <td>NaN</td>\n",
       "    </tr>\n",
       "    <tr>\n",
       "      <th>50%</th>\n",
       "      <td>5.800000</td>\n",
       "      <td>3.000000</td>\n",
       "      <td>4.350000</td>\n",
       "      <td>1.300000</td>\n",
       "      <td>NaN</td>\n",
       "    </tr>\n",
       "    <tr>\n",
       "      <th>75%</th>\n",
       "      <td>6.400000</td>\n",
       "      <td>3.300000</td>\n",
       "      <td>5.100000</td>\n",
       "      <td>1.800000</td>\n",
       "      <td>NaN</td>\n",
       "    </tr>\n",
       "    <tr>\n",
       "      <th>max</th>\n",
       "      <td>7.900000</td>\n",
       "      <td>4.400000</td>\n",
       "      <td>6.900000</td>\n",
       "      <td>2.500000</td>\n",
       "      <td>NaN</td>\n",
       "    </tr>\n",
       "  </tbody>\n",
       "</table>\n",
       "</div>"
      ],
      "text/plain": [
       "                SL          SW          PL          PW  Flower Type\n",
       "count   150.000000  150.000000  150.000000  150.000000          150\n",
       "unique         NaN         NaN         NaN         NaN            3\n",
       "top            NaN         NaN         NaN         NaN  Iris-setosa\n",
       "freq           NaN         NaN         NaN         NaN           50\n",
       "mean      5.843333    3.054000    3.758667    1.198667          NaN\n",
       "std       0.828066    0.433594    1.764420    0.763161          NaN\n",
       "min       4.300000    2.000000    1.000000    0.100000          NaN\n",
       "25%       5.100000    2.800000    1.600000    0.300000          NaN\n",
       "50%       5.800000    3.000000    4.350000    1.300000          NaN\n",
       "75%       6.400000    3.300000    5.100000    1.800000          NaN\n",
       "max       7.900000    4.400000    6.900000    2.500000          NaN"
      ]
     },
     "execution_count": 43,
     "metadata": {},
     "output_type": "execute_result"
    }
   ],
   "source": [
    "iris.describe(include='all')"
   ]
  },
  {
   "cell_type": "code",
   "execution_count": 58,
   "id": "0b1fcd75-faa7-4e68-a55e-4079f864cde4",
   "metadata": {},
   "outputs": [
    {
     "data": {
      "text/plain": [
       "Flower Type\n",
       "Iris-versicolor    50\n",
       "Iris-virginica     50\n",
       "Iris-setosa        49\n",
       "Name: count, dtype: int64"
      ]
     },
     "execution_count": 58,
     "metadata": {},
     "output_type": "execute_result"
    }
   ],
   "source": [
    "iris.columns=['SL','SW','PL','PW','Flower Type']\n",
    "iris['Flower Type'].value_counts()"
   ]
  },
  {
   "cell_type": "code",
   "execution_count": 126,
   "id": "bb8441b6-5a21-4872-8860-15ac2d3a5cee",
   "metadata": {},
   "outputs": [
    {
     "ename": "KeyError",
     "evalue": "\"['Flower Type'] not found in axis\"",
     "output_type": "error",
     "traceback": [
      "\u001b[1;31m---------------------------------------------------------------------------\u001b[0m",
      "\u001b[1;31mKeyError\u001b[0m                                  Traceback (most recent call last)",
      "Cell \u001b[1;32mIn[126], line 1\u001b[0m\n\u001b[1;32m----> 1\u001b[0m iris\u001b[38;5;241m.\u001b[39mdrop(\u001b[38;5;124m'\u001b[39m\u001b[38;5;124mFlower Type\u001b[39m\u001b[38;5;124m'\u001b[39m)\n",
      "File \u001b[1;32m~\\anaconda3\\Lib\\site-packages\\pandas\\core\\frame.py:5581\u001b[0m, in \u001b[0;36mDataFrame.drop\u001b[1;34m(self, labels, axis, index, columns, level, inplace, errors)\u001b[0m\n\u001b[0;32m   5433\u001b[0m \u001b[38;5;28;01mdef\u001b[39;00m \u001b[38;5;21mdrop\u001b[39m(\n\u001b[0;32m   5434\u001b[0m     \u001b[38;5;28mself\u001b[39m,\n\u001b[0;32m   5435\u001b[0m     labels: IndexLabel \u001b[38;5;241m|\u001b[39m \u001b[38;5;28;01mNone\u001b[39;00m \u001b[38;5;241m=\u001b[39m \u001b[38;5;28;01mNone\u001b[39;00m,\n\u001b[1;32m   (...)\u001b[0m\n\u001b[0;32m   5442\u001b[0m     errors: IgnoreRaise \u001b[38;5;241m=\u001b[39m \u001b[38;5;124m\"\u001b[39m\u001b[38;5;124mraise\u001b[39m\u001b[38;5;124m\"\u001b[39m,\n\u001b[0;32m   5443\u001b[0m ) \u001b[38;5;241m-\u001b[39m\u001b[38;5;241m>\u001b[39m DataFrame \u001b[38;5;241m|\u001b[39m \u001b[38;5;28;01mNone\u001b[39;00m:\n\u001b[0;32m   5444\u001b[0m \u001b[38;5;250m    \u001b[39m\u001b[38;5;124;03m\"\"\"\u001b[39;00m\n\u001b[0;32m   5445\u001b[0m \u001b[38;5;124;03m    Drop specified labels from rows or columns.\u001b[39;00m\n\u001b[0;32m   5446\u001b[0m \n\u001b[1;32m   (...)\u001b[0m\n\u001b[0;32m   5579\u001b[0m \u001b[38;5;124;03m            weight  1.0     0.8\u001b[39;00m\n\u001b[0;32m   5580\u001b[0m \u001b[38;5;124;03m    \"\"\"\u001b[39;00m\n\u001b[1;32m-> 5581\u001b[0m     \u001b[38;5;28;01mreturn\u001b[39;00m \u001b[38;5;28msuper\u001b[39m()\u001b[38;5;241m.\u001b[39mdrop(\n\u001b[0;32m   5582\u001b[0m         labels\u001b[38;5;241m=\u001b[39mlabels,\n\u001b[0;32m   5583\u001b[0m         axis\u001b[38;5;241m=\u001b[39maxis,\n\u001b[0;32m   5584\u001b[0m         index\u001b[38;5;241m=\u001b[39mindex,\n\u001b[0;32m   5585\u001b[0m         columns\u001b[38;5;241m=\u001b[39mcolumns,\n\u001b[0;32m   5586\u001b[0m         level\u001b[38;5;241m=\u001b[39mlevel,\n\u001b[0;32m   5587\u001b[0m         inplace\u001b[38;5;241m=\u001b[39minplace,\n\u001b[0;32m   5588\u001b[0m         errors\u001b[38;5;241m=\u001b[39merrors,\n\u001b[0;32m   5589\u001b[0m     )\n",
      "File \u001b[1;32m~\\anaconda3\\Lib\\site-packages\\pandas\\core\\generic.py:4788\u001b[0m, in \u001b[0;36mNDFrame.drop\u001b[1;34m(self, labels, axis, index, columns, level, inplace, errors)\u001b[0m\n\u001b[0;32m   4786\u001b[0m \u001b[38;5;28;01mfor\u001b[39;00m axis, labels \u001b[38;5;129;01min\u001b[39;00m axes\u001b[38;5;241m.\u001b[39mitems():\n\u001b[0;32m   4787\u001b[0m     \u001b[38;5;28;01mif\u001b[39;00m labels \u001b[38;5;129;01mis\u001b[39;00m \u001b[38;5;129;01mnot\u001b[39;00m \u001b[38;5;28;01mNone\u001b[39;00m:\n\u001b[1;32m-> 4788\u001b[0m         obj \u001b[38;5;241m=\u001b[39m obj\u001b[38;5;241m.\u001b[39m_drop_axis(labels, axis, level\u001b[38;5;241m=\u001b[39mlevel, errors\u001b[38;5;241m=\u001b[39merrors)\n\u001b[0;32m   4790\u001b[0m \u001b[38;5;28;01mif\u001b[39;00m inplace:\n\u001b[0;32m   4791\u001b[0m     \u001b[38;5;28mself\u001b[39m\u001b[38;5;241m.\u001b[39m_update_inplace(obj)\n",
      "File \u001b[1;32m~\\anaconda3\\Lib\\site-packages\\pandas\\core\\generic.py:4830\u001b[0m, in \u001b[0;36mNDFrame._drop_axis\u001b[1;34m(self, labels, axis, level, errors, only_slice)\u001b[0m\n\u001b[0;32m   4828\u001b[0m         new_axis \u001b[38;5;241m=\u001b[39m axis\u001b[38;5;241m.\u001b[39mdrop(labels, level\u001b[38;5;241m=\u001b[39mlevel, errors\u001b[38;5;241m=\u001b[39merrors)\n\u001b[0;32m   4829\u001b[0m     \u001b[38;5;28;01melse\u001b[39;00m:\n\u001b[1;32m-> 4830\u001b[0m         new_axis \u001b[38;5;241m=\u001b[39m axis\u001b[38;5;241m.\u001b[39mdrop(labels, errors\u001b[38;5;241m=\u001b[39merrors)\n\u001b[0;32m   4831\u001b[0m     indexer \u001b[38;5;241m=\u001b[39m axis\u001b[38;5;241m.\u001b[39mget_indexer(new_axis)\n\u001b[0;32m   4833\u001b[0m \u001b[38;5;66;03m# Case for non-unique axis\u001b[39;00m\n\u001b[0;32m   4834\u001b[0m \u001b[38;5;28;01melse\u001b[39;00m:\n",
      "File \u001b[1;32m~\\anaconda3\\Lib\\site-packages\\pandas\\core\\indexes\\base.py:7070\u001b[0m, in \u001b[0;36mIndex.drop\u001b[1;34m(self, labels, errors)\u001b[0m\n\u001b[0;32m   7068\u001b[0m \u001b[38;5;28;01mif\u001b[39;00m mask\u001b[38;5;241m.\u001b[39many():\n\u001b[0;32m   7069\u001b[0m     \u001b[38;5;28;01mif\u001b[39;00m errors \u001b[38;5;241m!=\u001b[39m \u001b[38;5;124m\"\u001b[39m\u001b[38;5;124mignore\u001b[39m\u001b[38;5;124m\"\u001b[39m:\n\u001b[1;32m-> 7070\u001b[0m         \u001b[38;5;28;01mraise\u001b[39;00m \u001b[38;5;167;01mKeyError\u001b[39;00m(\u001b[38;5;124mf\u001b[39m\u001b[38;5;124m\"\u001b[39m\u001b[38;5;132;01m{\u001b[39;00mlabels[mask]\u001b[38;5;241m.\u001b[39mtolist()\u001b[38;5;132;01m}\u001b[39;00m\u001b[38;5;124m not found in axis\u001b[39m\u001b[38;5;124m\"\u001b[39m)\n\u001b[0;32m   7071\u001b[0m     indexer \u001b[38;5;241m=\u001b[39m indexer[\u001b[38;5;241m~\u001b[39mmask]\n\u001b[0;32m   7072\u001b[0m \u001b[38;5;28;01mreturn\u001b[39;00m \u001b[38;5;28mself\u001b[39m\u001b[38;5;241m.\u001b[39mdelete(indexer)\n",
      "\u001b[1;31mKeyError\u001b[0m: \"['Flower Type'] not found in axis\""
     ]
    }
   ],
   "source": [
    "iris.drop('Flower Type')"
   ]
  },
  {
   "cell_type": "code",
   "execution_count": 85,
   "id": "d6c4399a-52be-4ac9-96f5-ce0a7614e5a0",
   "metadata": {},
   "outputs": [
    {
     "data": {
      "text/html": [
       "<div>\n",
       "<style scoped>\n",
       "    .dataframe tbody tr th:only-of-type {\n",
       "        vertical-align: middle;\n",
       "    }\n",
       "\n",
       "    .dataframe tbody tr th {\n",
       "        vertical-align: top;\n",
       "    }\n",
       "\n",
       "    .dataframe thead th {\n",
       "        text-align: right;\n",
       "    }\n",
       "</style>\n",
       "<table border=\"1\" class=\"dataframe\">\n",
       "  <thead>\n",
       "    <tr style=\"text-align: right;\">\n",
       "      <th></th>\n",
       "      <th>SL</th>\n",
       "      <th>PL</th>\n",
       "      <th>PW</th>\n",
       "    </tr>\n",
       "  </thead>\n",
       "  <tbody>\n",
       "    <tr>\n",
       "      <th>0</th>\n",
       "      <td>4.9</td>\n",
       "      <td>1.4</td>\n",
       "      <td>0.2</td>\n",
       "    </tr>\n",
       "    <tr>\n",
       "      <th>1</th>\n",
       "      <td>4.7</td>\n",
       "      <td>1.3</td>\n",
       "      <td>0.2</td>\n",
       "    </tr>\n",
       "    <tr>\n",
       "      <th>2</th>\n",
       "      <td>4.6</td>\n",
       "      <td>1.5</td>\n",
       "      <td>0.2</td>\n",
       "    </tr>\n",
       "    <tr>\n",
       "      <th>3</th>\n",
       "      <td>5.0</td>\n",
       "      <td>1.4</td>\n",
       "      <td>0.2</td>\n",
       "    </tr>\n",
       "    <tr>\n",
       "      <th>4</th>\n",
       "      <td>5.4</td>\n",
       "      <td>1.7</td>\n",
       "      <td>0.4</td>\n",
       "    </tr>\n",
       "    <tr>\n",
       "      <th>...</th>\n",
       "      <td>...</td>\n",
       "      <td>...</td>\n",
       "      <td>...</td>\n",
       "    </tr>\n",
       "    <tr>\n",
       "      <th>144</th>\n",
       "      <td>6.7</td>\n",
       "      <td>5.2</td>\n",
       "      <td>2.3</td>\n",
       "    </tr>\n",
       "    <tr>\n",
       "      <th>145</th>\n",
       "      <td>6.3</td>\n",
       "      <td>5.0</td>\n",
       "      <td>1.9</td>\n",
       "    </tr>\n",
       "    <tr>\n",
       "      <th>146</th>\n",
       "      <td>6.5</td>\n",
       "      <td>5.2</td>\n",
       "      <td>2.0</td>\n",
       "    </tr>\n",
       "    <tr>\n",
       "      <th>147</th>\n",
       "      <td>6.2</td>\n",
       "      <td>5.4</td>\n",
       "      <td>2.3</td>\n",
       "    </tr>\n",
       "    <tr>\n",
       "      <th>148</th>\n",
       "      <td>5.9</td>\n",
       "      <td>5.1</td>\n",
       "      <td>1.8</td>\n",
       "    </tr>\n",
       "  </tbody>\n",
       "</table>\n",
       "<p>149 rows × 3 columns</p>\n",
       "</div>"
      ],
      "text/plain": [
       "      SL   PL   PW\n",
       "0    4.9  1.4  0.2\n",
       "1    4.7  1.3  0.2\n",
       "2    4.6  1.5  0.2\n",
       "3    5.0  1.4  0.2\n",
       "4    5.4  1.7  0.4\n",
       "..   ...  ...  ...\n",
       "144  6.7  5.2  2.3\n",
       "145  6.3  5.0  1.9\n",
       "146  6.5  5.2  2.0\n",
       "147  6.2  5.4  2.3\n",
       "148  5.9  5.1  1.8\n",
       "\n",
       "[149 rows x 3 columns]"
      ]
     },
     "execution_count": 85,
     "metadata": {},
     "output_type": "execute_result"
    }
   ],
   "source": [
    "iris.drop('Flower Type',axis=1)"
   ]
  },
  {
   "cell_type": "code",
   "execution_count": 87,
   "id": "16915f0e-fcdb-4e73-8a47-73d85aa292f9",
   "metadata": {},
   "outputs": [
    {
     "ename": "KeyError",
     "evalue": "'SW'",
     "output_type": "error",
     "traceback": [
      "\u001b[1;31m---------------------------------------------------------------------------\u001b[0m",
      "\u001b[1;31mKeyError\u001b[0m                                  Traceback (most recent call last)",
      "File \u001b[1;32m~\\anaconda3\\Lib\\site-packages\\pandas\\core\\indexes\\base.py:3805\u001b[0m, in \u001b[0;36mIndex.get_loc\u001b[1;34m(self, key)\u001b[0m\n\u001b[0;32m   3804\u001b[0m \u001b[38;5;28;01mtry\u001b[39;00m:\n\u001b[1;32m-> 3805\u001b[0m     \u001b[38;5;28;01mreturn\u001b[39;00m \u001b[38;5;28mself\u001b[39m\u001b[38;5;241m.\u001b[39m_engine\u001b[38;5;241m.\u001b[39mget_loc(casted_key)\n\u001b[0;32m   3806\u001b[0m \u001b[38;5;28;01mexcept\u001b[39;00m \u001b[38;5;167;01mKeyError\u001b[39;00m \u001b[38;5;28;01mas\u001b[39;00m err:\n",
      "File \u001b[1;32mindex.pyx:167\u001b[0m, in \u001b[0;36mpandas._libs.index.IndexEngine.get_loc\u001b[1;34m()\u001b[0m\n",
      "File \u001b[1;32mindex.pyx:196\u001b[0m, in \u001b[0;36mpandas._libs.index.IndexEngine.get_loc\u001b[1;34m()\u001b[0m\n",
      "File \u001b[1;32mpandas\\\\_libs\\\\hashtable_class_helper.pxi:7081\u001b[0m, in \u001b[0;36mpandas._libs.hashtable.PyObjectHashTable.get_item\u001b[1;34m()\u001b[0m\n",
      "File \u001b[1;32mpandas\\\\_libs\\\\hashtable_class_helper.pxi:7089\u001b[0m, in \u001b[0;36mpandas._libs.hashtable.PyObjectHashTable.get_item\u001b[1;34m()\u001b[0m\n",
      "\u001b[1;31mKeyError\u001b[0m: 'SW'",
      "\nThe above exception was the direct cause of the following exception:\n",
      "\u001b[1;31mKeyError\u001b[0m                                  Traceback (most recent call last)",
      "Cell \u001b[1;32mIn[87], line 1\u001b[0m\n\u001b[1;32m----> 1\u001b[0m iris\u001b[38;5;241m.\u001b[39mpop(\u001b[38;5;124m'\u001b[39m\u001b[38;5;124mSW\u001b[39m\u001b[38;5;124m'\u001b[39m)\n",
      "File \u001b[1;32m~\\anaconda3\\Lib\\site-packages\\pandas\\core\\frame.py:5819\u001b[0m, in \u001b[0;36mDataFrame.pop\u001b[1;34m(self, item)\u001b[0m\n\u001b[0;32m   5778\u001b[0m \u001b[38;5;28;01mdef\u001b[39;00m \u001b[38;5;21mpop\u001b[39m(\u001b[38;5;28mself\u001b[39m, item: Hashable) \u001b[38;5;241m-\u001b[39m\u001b[38;5;241m>\u001b[39m Series:\n\u001b[0;32m   5779\u001b[0m \u001b[38;5;250m    \u001b[39m\u001b[38;5;124;03m\"\"\"\u001b[39;00m\n\u001b[0;32m   5780\u001b[0m \u001b[38;5;124;03m    Return item and drop from frame. Raise KeyError if not found.\u001b[39;00m\n\u001b[0;32m   5781\u001b[0m \n\u001b[1;32m   (...)\u001b[0m\n\u001b[0;32m   5817\u001b[0m \u001b[38;5;124;03m    3  monkey        NaN\u001b[39;00m\n\u001b[0;32m   5818\u001b[0m \u001b[38;5;124;03m    \"\"\"\u001b[39;00m\n\u001b[1;32m-> 5819\u001b[0m     \u001b[38;5;28;01mreturn\u001b[39;00m \u001b[38;5;28msuper\u001b[39m()\u001b[38;5;241m.\u001b[39mpop(item\u001b[38;5;241m=\u001b[39mitem)\n",
      "File \u001b[1;32m~\\anaconda3\\Lib\\site-packages\\pandas\\core\\generic.py:947\u001b[0m, in \u001b[0;36mNDFrame.pop\u001b[1;34m(self, item)\u001b[0m\n\u001b[0;32m    946\u001b[0m \u001b[38;5;28;01mdef\u001b[39;00m \u001b[38;5;21mpop\u001b[39m(\u001b[38;5;28mself\u001b[39m, item: Hashable) \u001b[38;5;241m-\u001b[39m\u001b[38;5;241m>\u001b[39m Series \u001b[38;5;241m|\u001b[39m Any:\n\u001b[1;32m--> 947\u001b[0m     result \u001b[38;5;241m=\u001b[39m \u001b[38;5;28mself\u001b[39m[item]\n\u001b[0;32m    948\u001b[0m     \u001b[38;5;28;01mdel\u001b[39;00m \u001b[38;5;28mself\u001b[39m[item]\n\u001b[0;32m    950\u001b[0m     \u001b[38;5;28;01mreturn\u001b[39;00m result\n",
      "File \u001b[1;32m~\\anaconda3\\Lib\\site-packages\\pandas\\core\\frame.py:4102\u001b[0m, in \u001b[0;36mDataFrame.__getitem__\u001b[1;34m(self, key)\u001b[0m\n\u001b[0;32m   4100\u001b[0m \u001b[38;5;28;01mif\u001b[39;00m \u001b[38;5;28mself\u001b[39m\u001b[38;5;241m.\u001b[39mcolumns\u001b[38;5;241m.\u001b[39mnlevels \u001b[38;5;241m>\u001b[39m \u001b[38;5;241m1\u001b[39m:\n\u001b[0;32m   4101\u001b[0m     \u001b[38;5;28;01mreturn\u001b[39;00m \u001b[38;5;28mself\u001b[39m\u001b[38;5;241m.\u001b[39m_getitem_multilevel(key)\n\u001b[1;32m-> 4102\u001b[0m indexer \u001b[38;5;241m=\u001b[39m \u001b[38;5;28mself\u001b[39m\u001b[38;5;241m.\u001b[39mcolumns\u001b[38;5;241m.\u001b[39mget_loc(key)\n\u001b[0;32m   4103\u001b[0m \u001b[38;5;28;01mif\u001b[39;00m is_integer(indexer):\n\u001b[0;32m   4104\u001b[0m     indexer \u001b[38;5;241m=\u001b[39m [indexer]\n",
      "File \u001b[1;32m~\\anaconda3\\Lib\\site-packages\\pandas\\core\\indexes\\base.py:3812\u001b[0m, in \u001b[0;36mIndex.get_loc\u001b[1;34m(self, key)\u001b[0m\n\u001b[0;32m   3807\u001b[0m     \u001b[38;5;28;01mif\u001b[39;00m \u001b[38;5;28misinstance\u001b[39m(casted_key, \u001b[38;5;28mslice\u001b[39m) \u001b[38;5;129;01mor\u001b[39;00m (\n\u001b[0;32m   3808\u001b[0m         \u001b[38;5;28misinstance\u001b[39m(casted_key, abc\u001b[38;5;241m.\u001b[39mIterable)\n\u001b[0;32m   3809\u001b[0m         \u001b[38;5;129;01mand\u001b[39;00m \u001b[38;5;28many\u001b[39m(\u001b[38;5;28misinstance\u001b[39m(x, \u001b[38;5;28mslice\u001b[39m) \u001b[38;5;28;01mfor\u001b[39;00m x \u001b[38;5;129;01min\u001b[39;00m casted_key)\n\u001b[0;32m   3810\u001b[0m     ):\n\u001b[0;32m   3811\u001b[0m         \u001b[38;5;28;01mraise\u001b[39;00m InvalidIndexError(key)\n\u001b[1;32m-> 3812\u001b[0m     \u001b[38;5;28;01mraise\u001b[39;00m \u001b[38;5;167;01mKeyError\u001b[39;00m(key) \u001b[38;5;28;01mfrom\u001b[39;00m \u001b[38;5;21;01merr\u001b[39;00m\n\u001b[0;32m   3813\u001b[0m \u001b[38;5;28;01mexcept\u001b[39;00m \u001b[38;5;167;01mTypeError\u001b[39;00m:\n\u001b[0;32m   3814\u001b[0m     \u001b[38;5;66;03m# If we have a listlike key, _check_indexing_error will raise\u001b[39;00m\n\u001b[0;32m   3815\u001b[0m     \u001b[38;5;66;03m#  InvalidIndexError. Otherwise we fall through and re-raise\u001b[39;00m\n\u001b[0;32m   3816\u001b[0m     \u001b[38;5;66;03m#  the TypeError.\u001b[39;00m\n\u001b[0;32m   3817\u001b[0m     \u001b[38;5;28mself\u001b[39m\u001b[38;5;241m.\u001b[39m_check_indexing_error(key)\n",
      "\u001b[1;31mKeyError\u001b[0m: 'SW'"
     ]
    }
   ],
   "source": [
    "iris.pop('SW')"
   ]
  },
  {
   "cell_type": "code",
   "execution_count": 79,
   "id": "823bc811-28e7-400c-983b-a59fa5b551e6",
   "metadata": {},
   "outputs": [
    {
     "data": {
      "text/html": [
       "<div>\n",
       "<style scoped>\n",
       "    .dataframe tbody tr th:only-of-type {\n",
       "        vertical-align: middle;\n",
       "    }\n",
       "\n",
       "    .dataframe tbody tr th {\n",
       "        vertical-align: top;\n",
       "    }\n",
       "\n",
       "    .dataframe thead th {\n",
       "        text-align: right;\n",
       "    }\n",
       "</style>\n",
       "<table border=\"1\" class=\"dataframe\">\n",
       "  <thead>\n",
       "    <tr style=\"text-align: right;\">\n",
       "      <th></th>\n",
       "      <th>SL</th>\n",
       "      <th>PL</th>\n",
       "      <th>PW</th>\n",
       "      <th>Flower Type</th>\n",
       "    </tr>\n",
       "  </thead>\n",
       "  <tbody>\n",
       "    <tr>\n",
       "      <th>0</th>\n",
       "      <td>4.9</td>\n",
       "      <td>1.4</td>\n",
       "      <td>0.2</td>\n",
       "      <td>Iris-setosa</td>\n",
       "    </tr>\n",
       "    <tr>\n",
       "      <th>1</th>\n",
       "      <td>4.7</td>\n",
       "      <td>1.3</td>\n",
       "      <td>0.2</td>\n",
       "      <td>Iris-setosa</td>\n",
       "    </tr>\n",
       "    <tr>\n",
       "      <th>2</th>\n",
       "      <td>4.6</td>\n",
       "      <td>1.5</td>\n",
       "      <td>0.2</td>\n",
       "      <td>Iris-setosa</td>\n",
       "    </tr>\n",
       "    <tr>\n",
       "      <th>3</th>\n",
       "      <td>5.0</td>\n",
       "      <td>1.4</td>\n",
       "      <td>0.2</td>\n",
       "      <td>Iris-setosa</td>\n",
       "    </tr>\n",
       "    <tr>\n",
       "      <th>4</th>\n",
       "      <td>5.4</td>\n",
       "      <td>1.7</td>\n",
       "      <td>0.4</td>\n",
       "      <td>Iris-setosa</td>\n",
       "    </tr>\n",
       "    <tr>\n",
       "      <th>...</th>\n",
       "      <td>...</td>\n",
       "      <td>...</td>\n",
       "      <td>...</td>\n",
       "      <td>...</td>\n",
       "    </tr>\n",
       "    <tr>\n",
       "      <th>144</th>\n",
       "      <td>6.7</td>\n",
       "      <td>5.2</td>\n",
       "      <td>2.3</td>\n",
       "      <td>Iris-virginica</td>\n",
       "    </tr>\n",
       "    <tr>\n",
       "      <th>145</th>\n",
       "      <td>6.3</td>\n",
       "      <td>5.0</td>\n",
       "      <td>1.9</td>\n",
       "      <td>Iris-virginica</td>\n",
       "    </tr>\n",
       "    <tr>\n",
       "      <th>146</th>\n",
       "      <td>6.5</td>\n",
       "      <td>5.2</td>\n",
       "      <td>2.0</td>\n",
       "      <td>Iris-virginica</td>\n",
       "    </tr>\n",
       "    <tr>\n",
       "      <th>147</th>\n",
       "      <td>6.2</td>\n",
       "      <td>5.4</td>\n",
       "      <td>2.3</td>\n",
       "      <td>Iris-virginica</td>\n",
       "    </tr>\n",
       "    <tr>\n",
       "      <th>148</th>\n",
       "      <td>5.9</td>\n",
       "      <td>5.1</td>\n",
       "      <td>1.8</td>\n",
       "      <td>Iris-virginica</td>\n",
       "    </tr>\n",
       "  </tbody>\n",
       "</table>\n",
       "<p>149 rows × 4 columns</p>\n",
       "</div>"
      ],
      "text/plain": [
       "      SL   PL   PW     Flower Type\n",
       "0    4.9  1.4  0.2     Iris-setosa\n",
       "1    4.7  1.3  0.2     Iris-setosa\n",
       "2    4.6  1.5  0.2     Iris-setosa\n",
       "3    5.0  1.4  0.2     Iris-setosa\n",
       "4    5.4  1.7  0.4     Iris-setosa\n",
       "..   ...  ...  ...             ...\n",
       "144  6.7  5.2  2.3  Iris-virginica\n",
       "145  6.3  5.0  1.9  Iris-virginica\n",
       "146  6.5  5.2  2.0  Iris-virginica\n",
       "147  6.2  5.4  2.3  Iris-virginica\n",
       "148  5.9  5.1  1.8  Iris-virginica\n",
       "\n",
       "[149 rows x 4 columns]"
      ]
     },
     "execution_count": 79,
     "metadata": {},
     "output_type": "execute_result"
    }
   ],
   "source": [
    "iris"
   ]
  },
  {
   "cell_type": "markdown",
   "id": "bc8a1ff2-a60f-4cc6-9b16-d4c8de248125",
   "metadata": {},
   "source": [
    "steps for data cleaning\n",
    "\n",
    ".reading dataset\n",
    ".rename the column name if required\n",
    ".check missing values\n",
    ".check data types\n",
    ".check unique values\n",
    ".check describe value\n"
   ]
  },
  {
   "cell_type": "code",
   "execution_count": null,
   "id": "10f62188-40a3-49ca-a9cf-14ccf769960e",
   "metadata": {},
   "outputs": [],
   "source": []
  }
 ],
 "metadata": {
  "kernelspec": {
   "display_name": "Python 3 (ipykernel)",
   "language": "python",
   "name": "python3"
  },
  "language_info": {
   "codemirror_mode": {
    "name": "ipython",
    "version": 3
   },
   "file_extension": ".py",
   "mimetype": "text/x-python",
   "name": "python",
   "nbconvert_exporter": "python",
   "pygments_lexer": "ipython3",
   "version": "3.12.4"
  }
 },
 "nbformat": 4,
 "nbformat_minor": 5
}
